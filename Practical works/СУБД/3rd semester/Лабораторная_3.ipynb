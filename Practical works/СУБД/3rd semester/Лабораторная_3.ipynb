{
  "cells": [
    {
      "cell_type": "code",
      "execution_count": 1,
      "metadata": {
        "id": "exFkotWz7Lk_"
      },
      "outputs": [],
      "source": [
        "%load_ext sql\n",
        "%sql sqlite:///store.db"
      ]
    },
    {
      "cell_type": "markdown",
      "metadata": {},
      "source": [
        "![scheme](scheme.png)"
      ]
    },
    {
      "cell_type": "markdown",
      "metadata": {
        "id": "8Nwojma57LlH"
      },
      "source": [
        "## Задание 1\n",
        "Вывести страну, где популярнее всего группа Iron Maiden (т.е. треков куплено больше, чем в других странах). Также вывести кол-во купленных треков."
      ]
    },
    {
      "cell_type": "code",
      "execution_count": 2,
      "metadata": {
        "id": "8CRlncp2EfD1"
      },
      "outputs": [
        {
          "name": "stdout",
          "output_type": "stream",
          "text": [
            " * sqlite:///store.db\n",
            "Done.\n"
          ]
        },
        {
          "data": {
            "text/html": [
              "<table>\n",
              "    <thead>\n",
              "        <tr>\n",
              "            <th>Country</th>\n",
              "            <th>orders</th>\n",
              "        </tr>\n",
              "    </thead>\n",
              "    <tbody>\n",
              "        <tr>\n",
              "            <td>USA</td>\n",
              "            <td>34</td>\n",
              "        </tr>\n",
              "    </tbody>\n",
              "</table>"
            ],
            "text/plain": [
              "[('USA', 34)]"
            ]
          },
          "execution_count": 2,
          "metadata": {},
          "output_type": "execute_result"
        }
      ],
      "source": [
        "%%sql\n",
        "\n",
        "WITH q AS (\n",
        "    SELECT * FROM customers c\n",
        "    JOIN invoices i ON c.customerid = i.customerid\n",
        "    JOIN invoice_items ii ON i.invoiceid = ii.invoiceid\n",
        "    JOIN tracks t ON ii.trackid = t.trackid\n",
        "    JOIN albums al ON t.albumid = al.albumid\n",
        "    JOIN artists ar ON al.artistid = ar.artistid\n",
        "    WHERE ar.name = \"Iron Maiden\"\n",
        ")\n",
        "SELECT country, COUNT(*) orders FROM q\n",
        "WHERE country IS NOT NULL GROUP BY country\n",
        "ORDER BY orders DESC LIMIT 1;"
      ]
    },
    {
      "cell_type": "markdown",
      "metadata": {
        "id": "nLIbkB-w_aD6"
      },
      "source": [
        "## Задание 2\n",
        "Вывести \"средний по длине\" трек, среди приобретённых компаниями (только клиентами из конкретных компаний) после 22 апреля 2023 года.\n",
        "\"Средний по длине\" = максимально близкий к среднему значению множества треков по длине (не медиана!). Если таких треков несколько, вывести первый по алфавиту."
      ]
    },
    {
      "cell_type": "code",
      "execution_count": 3,
      "metadata": {
        "id": "HyW9LeYPDBnN"
      },
      "outputs": [
        {
          "name": "stdout",
          "output_type": "stream",
          "text": [
            " * sqlite:///store.db\n",
            "Done.\n"
          ]
        },
        {
          "data": {
            "text/html": [
              "<table>\n",
              "    <thead>\n",
              "        <tr>\n",
              "            <th>TrackId</th>\n",
              "            <th>Name</th>\n",
              "            <th>AlbumId</th>\n",
              "            <th>MediaTypeId</th>\n",
              "            <th>GenreId</th>\n",
              "            <th>Milliseconds</th>\n",
              "            <th>Bytes</th>\n",
              "            <th>UnitPrice</th>\n",
              "            <th>deviation</th>\n",
              "        </tr>\n",
              "    </thead>\n",
              "    <tbody>\n",
              "        <tr>\n",
              "            <td>1601</td>\n",
              "            <td>No Quarter</td>\n",
              "            <td>129</td>\n",
              "            <td>5</td>\n",
              "            <td>1</td>\n",
              "            <td>420493</td>\n",
              "            <td>13656517</td>\n",
              "            <td>0.99</td>\n",
              "            <td>309.3017676767777</td>\n",
              "        </tr>\n",
              "    </tbody>\n",
              "</table>"
            ],
            "text/plain": [
              "[(1601, 'No Quarter', 129, 5, 1, 420493, 13656517, 0.99, 309.3017676767777)]"
            ]
          },
          "execution_count": 3,
          "metadata": {},
          "output_type": "execute_result"
        }
      ],
      "source": [
        "%%sql\n",
        "\n",
        "WITH q AS (\n",
        "    SELECT DISTINCT t.* FROM customers c\n",
        "    JOIN invoices i ON c.customerid = i.customerid\n",
        "    JOIN invoice_items ii ON i.invoiceid = ii.invoiceid\n",
        "    JOIN tracks t ON ii.trackid = t.trackid\n",
        "    WHERE c.company IS NOT NULL AND i.invoicedate > \"2023-04-22 00:00:00\"\n",
        ")\n",
        "SELECT q.*, ABS(milliseconds - (SELECT AVG(milliseconds) FROM q)) deviation\n",
        "FROM q ORDER BY deviation LIMIT 1;"
      ]
    },
    {
      "cell_type": "markdown",
      "metadata": {
        "id": "Wc2ruoHvkovl"
      },
      "source": [
        "## Задание 3\n",
        "\n",
        "Вывести треки, встречающиеся и в нескольких плейлистах, и в нескольких заказах одновременно."
      ]
    },
    {
      "cell_type": "code",
      "execution_count": 7,
      "metadata": {
        "id": "2Mautq6ExOFt"
      },
      "outputs": [
        {
          "name": "stdout",
          "output_type": "stream",
          "text": [
            " * sqlite:///store.db\n",
            "Done.\n"
          ]
        },
        {
          "data": {
            "text/html": [
              "<table>\n",
              "    <thead>\n",
              "        <tr>\n",
              "            <th>TrackId</th>\n",
              "            <th>Name</th>\n",
              "            <th>AlbumId</th>\n",
              "            <th>MediaTypeId</th>\n",
              "            <th>GenreId</th>\n",
              "            <th>Milliseconds</th>\n",
              "            <th>Bytes</th>\n",
              "            <th>UnitPrice</th>\n",
              "        </tr>\n",
              "    </thead>\n",
              "    <tbody>\n",
              "        <tr>\n",
              "            <td>894</td>\n",
              "            <td>Sunshine Of Your Love</td>\n",
              "            <td>72</td>\n",
              "            <td>1</td>\n",
              "            <td>6</td>\n",
              "            <td>252891</td>\n",
              "            <td>8225889</td>\n",
              "            <td>2.99</td>\n",
              "        </tr>\n",
              "        <tr>\n",
              "            <td>2832</td>\n",
              "            <td>The Woman King</td>\n",
              "            <td>227</td>\n",
              "            <td>3</td>\n",
              "            <td>18</td>\n",
              "            <td>2626376</td>\n",
              "            <td>552893447</td>\n",
              "            <td>1.99</td>\n",
              "        </tr>\n",
              "        <tr>\n",
              "            <td>2850</td>\n",
              "            <td>The Fix</td>\n",
              "            <td>228</td>\n",
              "            <td>3</td>\n",
              "            <td>21</td>\n",
              "            <td>2600266</td>\n",
              "            <td>507026323</td>\n",
              "            <td>1.99</td>\n",
              "        </tr>\n",
              "        <tr>\n",
              "            <td>2868</td>\n",
              "            <td>Walkabout</td>\n",
              "            <td>230</td>\n",
              "            <td>3</td>\n",
              "            <td>19</td>\n",
              "            <td>2587370</td>\n",
              "            <td>207748198</td>\n",
              "            <td>1.99</td>\n",
              "        </tr>\n",
              "        <tr>\n",
              "            <td>3177</td>\n",
              "            <td>Hot Girl</td>\n",
              "            <td>249</td>\n",
              "            <td>3</td>\n",
              "            <td>19</td>\n",
              "            <td>1325458</td>\n",
              "            <td>267836576</td>\n",
              "            <td>1.99</td>\n",
              "        </tr>\n",
              "        <tr>\n",
              "            <td>3200</td>\n",
              "            <td>Gay Witch Hunt</td>\n",
              "            <td>251</td>\n",
              "            <td>3</td>\n",
              "            <td>19</td>\n",
              "            <td>1326534</td>\n",
              "            <td>276942637</td>\n",
              "            <td>1.99</td>\n",
              "        </tr>\n",
              "        <tr>\n",
              "            <td>3214</td>\n",
              "            <td>Phyllis&#x27;s Wedding</td>\n",
              "            <td>251</td>\n",
              "            <td>3</td>\n",
              "            <td>22</td>\n",
              "            <td>1271521</td>\n",
              "            <td>258561054</td>\n",
              "            <td>1.99</td>\n",
              "        </tr>\n",
              "        <tr>\n",
              "            <td>3223</td>\n",
              "            <td>How to Stop an Exploding Man</td>\n",
              "            <td>228</td>\n",
              "            <td>3</td>\n",
              "            <td>21</td>\n",
              "            <td>2687103</td>\n",
              "            <td>487881159</td>\n",
              "            <td>1.99</td>\n",
              "        </tr>\n",
              "        <tr>\n",
              "            <td>3250</td>\n",
              "            <td>Pilot</td>\n",
              "            <td>254</td>\n",
              "            <td>3</td>\n",
              "            <td>19</td>\n",
              "            <td>2484567</td>\n",
              "            <td>492670102</td>\n",
              "            <td>1.99</td>\n",
              "        </tr>\n",
              "    </tbody>\n",
              "</table>"
            ],
            "text/plain": [
              "[(894, 'Sunshine Of Your Love', 72, 1, 6, 252891, 8225889, 2.99),\n",
              " (2832, 'The Woman King', 227, 3, 18, 2626376, 552893447, 1.99),\n",
              " (2850, 'The Fix', 228, 3, 21, 2600266, 507026323, 1.99),\n",
              " (2868, 'Walkabout', 230, 3, 19, 2587370, 207748198, 1.99),\n",
              " (3177, 'Hot Girl', 249, 3, 19, 1325458, 267836576, 1.99),\n",
              " (3200, 'Gay Witch Hunt', 251, 3, 19, 1326534, 276942637, 1.99),\n",
              " (3214, \"Phyllis's Wedding\", 251, 3, 22, 1271521, 258561054, 1.99),\n",
              " (3223, 'How to Stop an Exploding Man', 228, 3, 21, 2687103, 487881159, 1.99),\n",
              " (3250, 'Pilot', 254, 3, 19, 2484567, 492670102, 1.99)]"
            ]
          },
          "execution_count": 7,
          "metadata": {},
          "output_type": "execute_result"
        }
      ],
      "source": [
        "%%sql\n",
        "\n",
        "WITH multiplaylist_tracks AS (\n",
        "    SELECT trackid FROM playlist_track\n",
        "    GROUP BY trackid HAVING COUNT(playlistid) > 1\n",
        "),\n",
        "multiorder_tracks AS (\n",
        "    SELECT trackid FROM invoice_items\n",
        "    GROUP BY trackid HAVING COUNT(invoiceid) > 1\n",
        ")\n",
        "SELECT t.*\n",
        "FROM tracks t\n",
        "JOIN multiplaylist_tracks mp ON t.trackid = mp.trackid\n",
        "JOIN multiorder_tracks mo ON t.trackid = mo.trackid;"
      ]
    },
    {
      "cell_type": "markdown",
      "metadata": {
        "id": "epfFVrwEAQzY"
      },
      "source": [
        "## Задание 4\n",
        "Вывести альбом, который является максимальным по продолжительности среди альбомов со стоимостью, большей средней цены за альбом *(цена альбома = сумма цен треков, продолжительность считать аналогично)*."
      ]
    },
    {
      "cell_type": "code",
      "execution_count": 5,
      "metadata": {
        "id": "2mgltSeo8QYv"
      },
      "outputs": [
        {
          "name": "stdout",
          "output_type": "stream",
          "text": [
            " * sqlite:///store.db\n",
            "Done.\n"
          ]
        },
        {
          "data": {
            "text/html": [
              "<table>\n",
              "    <thead>\n",
              "        <tr>\n",
              "            <th>albumid</th>\n",
              "            <th>title</th>\n",
              "            <th>artistid</th>\n",
              "            <th>total_price</th>\n",
              "            <th>total_duration</th>\n",
              "        </tr>\n",
              "    </thead>\n",
              "    <tbody>\n",
              "        <tr>\n",
              "            <td>229</td>\n",
              "            <td>Lost, Season 3</td>\n",
              "            <td>149</td>\n",
              "            <td>50.74</td>\n",
              "            <td>70665582</td>\n",
              "        </tr>\n",
              "    </tbody>\n",
              "</table>"
            ],
            "text/plain": [
              "[(229, 'Lost, Season 3', 149, 50.74, 70665582)]"
            ]
          },
          "execution_count": 5,
          "metadata": {},
          "output_type": "execute_result"
        }
      ],
      "source": [
        "%%sql\n",
        "\n",
        "WITH q AS (\n",
        "    SELECT a.*, t.unitprice, t.milliseconds FROM albums a\n",
        "    LEFT JOIN tracks t ON a.albumid = t.albumid\n",
        "),\n",
        "total_album_prices AS (\n",
        "    SELECT q.albumid, q.title, q.artistid,\n",
        "    SUM(unitprice) total_price, SUM(milliseconds)\n",
        "    total_duration FROM q GROUP BY albumid\n",
        ")\n",
        "SELECT * FROM total_album_prices\n",
        "WHERE total_price > (SELECT AVG(total_price) FROM total_album_prices)\n",
        "ORDER BY total_duration DESC LIMIT 1;"
      ]
    },
    {
      "cell_type": "markdown",
      "metadata": {
        "id": "Bu60tw0tADem"
      },
      "source": [
        "## Задание 5\n",
        "Для каждого исполнителя, у которого есть песни нескольких жанров, найти жанр, по которому он заработал наибольшее количество денег, а также вывести процентное соотношение суммы, заработанной исполнителем по этому жанру к общей сумме заработанных денег. Формат вывода: имя исполнителя, жанр, соотношение."
      ]
    },
    {
      "cell_type": "code",
      "execution_count": 15,
      "metadata": {},
      "outputs": [
        {
          "name": "stdout",
          "output_type": "stream",
          "text": [
            " * sqlite:///store.db\n",
            "Done.\n"
          ]
        },
        {
          "data": {
            "text/html": [
              "<table>\n",
              "    <thead>\n",
              "        <tr>\n",
              "            <th>artistname</th>\n",
              "            <th>genrename</th>\n",
              "            <th>Ratio</th>\n",
              "        </tr>\n",
              "    </thead>\n",
              "    <tbody>\n",
              "        <tr>\n",
              "            <td>Amy Winehouse</td>\n",
              "            <td>R&amp;B/Soul</td>\n",
              "            <td>55.55555555555556</td>\n",
              "        </tr>\n",
              "        <tr>\n",
              "            <td>Antônio Carlos Jobim</td>\n",
              "            <td>Latin</td>\n",
              "            <td>62.93745346239762</td>\n",
              "        </tr>\n",
              "        <tr>\n",
              "            <td>Audioslave</td>\n",
              "            <td>Alternative &amp; Punk</td>\n",
              "            <td>40.78358208955224</td>\n",
              "        </tr>\n",
              "        <tr>\n",
              "            <td>Battlestar Galactica</td>\n",
              "            <td>TV Shows</td>\n",
              "            <td>47.368421052631575</td>\n",
              "        </tr>\n",
              "        <tr>\n",
              "            <td>Eric Clapton</td>\n",
              "            <td>Blues</td>\n",
              "            <td>71.75558759913481</td>\n",
              "        </tr>\n",
              "        <tr>\n",
              "            <td>Faith No More</td>\n",
              "            <td>Alternative &amp; Punk</td>\n",
              "            <td>87.00422790416751</td>\n",
              "        </tr>\n",
              "        <tr>\n",
              "            <td>Foo Fighters</td>\n",
              "            <td>Rock</td>\n",
              "            <td>83.36127409891031</td>\n",
              "        </tr>\n",
              "        <tr>\n",
              "            <td>Gilberto Gil</td>\n",
              "            <td>Latin</td>\n",
              "            <td>62.490547012856055</td>\n",
              "        </tr>\n",
              "        <tr>\n",
              "            <td>Guns N&#x27; Roses</td>\n",
              "            <td>Rock</td>\n",
              "            <td>65.52003706277507</td>\n",
              "        </tr>\n",
              "        <tr>\n",
              "            <td>Heroes</td>\n",
              "            <td>Drama</td>\n",
              "            <td>75.0</td>\n",
              "        </tr>\n",
              "        <tr>\n",
              "            <td>Iron Maiden</td>\n",
              "            <td>Metal</td>\n",
              "            <td>48.803812134860806</td>\n",
              "        </tr>\n",
              "        <tr>\n",
              "            <td>Jamiroquai</td>\n",
              "            <td>R&amp;B/Soul</td>\n",
              "            <td>57.705218187366505</td>\n",
              "        </tr>\n",
              "        <tr>\n",
              "            <td>Lenny Kravitz</td>\n",
              "            <td>Rock</td>\n",
              "            <td>66.71838634600465</td>\n",
              "        </tr>\n",
              "        <tr>\n",
              "            <td>Lost</td>\n",
              "            <td>TV Shows</td>\n",
              "            <td>50.909090909090914</td>\n",
              "        </tr>\n",
              "        <tr>\n",
              "            <td>Ozzy Osbourne</td>\n",
              "            <td>Rock</td>\n",
              "            <td>52.10065645514222</td>\n",
              "        </tr>\n",
              "        <tr>\n",
              "            <td>Pearl Jam</td>\n",
              "            <td>Rock</td>\n",
              "            <td>85.11054293878779</td>\n",
              "        </tr>\n",
              "        <tr>\n",
              "            <td>R.E.M.</td>\n",
              "            <td>Alternative &amp; Punk</td>\n",
              "            <td>68.75</td>\n",
              "        </tr>\n",
              "        <tr>\n",
              "            <td>Red Hot Chili Peppers</td>\n",
              "            <td>Rock</td>\n",
              "            <td>67.56756756756758</td>\n",
              "        </tr>\n",
              "        <tr>\n",
              "            <td>The Office</td>\n",
              "            <td>TV Shows</td>\n",
              "            <td>53.125</td>\n",
              "        </tr>\n",
              "        <tr>\n",
              "            <td>U2</td>\n",
              "            <td>Rock</td>\n",
              "            <td>87.57983576642336</td>\n",
              "        </tr>\n",
              "        <tr>\n",
              "            <td>Various Artists</td>\n",
              "            <td>Latin</td>\n",
              "            <td>69.62703707754567</td>\n",
              "        </tr>\n",
              "    </tbody>\n",
              "</table>"
            ],
            "text/plain": [
              "[('Amy Winehouse', 'R&B/Soul', 55.55555555555556),\n",
              " ('Antônio Carlos Jobim', 'Latin', 62.93745346239762),\n",
              " ('Audioslave', 'Alternative & Punk', 40.78358208955224),\n",
              " ('Battlestar Galactica', 'TV Shows', 47.368421052631575),\n",
              " ('Eric Clapton', 'Blues', 71.75558759913481),\n",
              " ('Faith No More', 'Alternative & Punk', 87.00422790416751),\n",
              " ('Foo Fighters', 'Rock', 83.36127409891031),\n",
              " ('Gilberto Gil', 'Latin', 62.490547012856055),\n",
              " (\"Guns N' Roses\", 'Rock', 65.52003706277507),\n",
              " ('Heroes', 'Drama', 75.0),\n",
              " ('Iron Maiden', 'Metal', 48.803812134860806),\n",
              " ('Jamiroquai', 'R&B/Soul', 57.705218187366505),\n",
              " ('Lenny Kravitz', 'Rock', 66.71838634600465),\n",
              " ('Lost', 'TV Shows', 50.909090909090914),\n",
              " ('Ozzy Osbourne', 'Rock', 52.10065645514222),\n",
              " ('Pearl Jam', 'Rock', 85.11054293878779),\n",
              " ('R.E.M.', 'Alternative & Punk', 68.75),\n",
              " ('Red Hot Chili Peppers', 'Rock', 67.56756756756758),\n",
              " ('The Office', 'TV Shows', 53.125),\n",
              " ('U2', 'Rock', 87.57983576642336),\n",
              " ('Various Artists', 'Latin', 69.62703707754567)]"
            ]
          },
          "execution_count": 15,
          "metadata": {},
          "output_type": "execute_result"
        }
      ],
      "source": [
        "%%sql\n",
        "\n",
        "WITH artist_earnings_per_genre AS (\n",
        "  SELECT ar.name AS artistname, g.name AS genrename, SUM(t.unitprice * ii.quantity) as earnings\n",
        "  FROM genres g\n",
        "  JOIN tracks t ON t.genreid = g.genreid\n",
        "  JOIN albums a ON a.albumid = t.albumId\n",
        "  JOIN artists ar ON ar.artistid = a.artistid\n",
        "  JOIN invoice_items ii ON t.trackid = ii.trackid\n",
        "  GROUP BY ar.name, g.name\n",
        "),\n",
        "\n",
        "total_earnings AS (\n",
        "  SELECT artistname, SUM(earnings) As total\n",
        "  FROM artist_earnings_per_genre\n",
        "  GROUP BY artistname\n",
        "),\n",
        "\n",
        "max_earnings_per_genre AS (\n",
        "  SELECT artistname, genrename, earnings as max_earnings\n",
        "  FROM artist_earnings_per_genre efg\n",
        "  GROUP BY artistname\n",
        "  HAVING MAX(earnings)\n",
        ")\n",
        "\n",
        "SELECT mepg.ArtistName, mepg.GenreName, (mepg.max_earnings)/(te.total) * 100 as Ratio\n",
        "FROM genres g\n",
        "JOIN tracks t ON t.genreid = g.genreid\n",
        "JOIN albums a ON a.albumid = t.albumId\n",
        "JOIN artists ar ON ar.artistid = a.artistid\n",
        "JOIN max_earnings_per_genre mepg ON ar.name = mepg.ArtistName\n",
        "JOIN total_earnings te ON mepg.ArtistName = te.ArtistName\n",
        "GROUP BY ar.name\n",
        "HAVING COUNT(DISTINCT g.name) > 1;"
      ]
    }
  ],
  "metadata": {
    "colab": {
      "provenance": []
    },
    "kernelspec": {
      "display_name": "Python 3",
      "language": "python",
      "name": "python3"
    },
    "language_info": {
      "codemirror_mode": {
        "name": "ipython",
        "version": 3
      },
      "file_extension": ".py",
      "mimetype": "text/x-python",
      "name": "python",
      "nbconvert_exporter": "python",
      "pygments_lexer": "ipython3",
      "version": "3.11.9"
    }
  },
  "nbformat": 4,
  "nbformat_minor": 0
}
