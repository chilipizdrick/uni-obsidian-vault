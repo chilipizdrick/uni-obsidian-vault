{
  "cells": [
    {
      "cell_type": "markdown",
      "metadata": {
        "id": "s5oU2Q5R3f3n"
      },
      "source": [
        "Проверим, что у вас подключена возможность работы с SQL"
      ]
    },
    {
      "cell_type": "code",
      "execution_count": 1,
      "metadata": {},
      "outputs": [
        {
          "name": "stdout",
          "output_type": "stream",
          "text": [
            "Requirement already satisfied: ipython-sql in /home/alex/Projects/python/jupyter/.venv/lib/python3.11/site-packages (from -r requirements.txt (line 1)) (0.5.0)\n",
            "Requirement already satisfied: prettytable in /home/alex/Projects/python/jupyter/.venv/lib/python3.11/site-packages (from ipython-sql->-r requirements.txt (line 1)) (3.11.0)\n",
            "Requirement already satisfied: ipython in /home/alex/Projects/python/jupyter/.venv/lib/python3.11/site-packages (from ipython-sql->-r requirements.txt (line 1)) (8.27.0)\n",
            "Requirement already satisfied: sqlalchemy>=2.0 in /home/alex/Projects/python/jupyter/.venv/lib/python3.11/site-packages (from ipython-sql->-r requirements.txt (line 1)) (2.0.35)\n",
            "Requirement already satisfied: sqlparse in /home/alex/Projects/python/jupyter/.venv/lib/python3.11/site-packages (from ipython-sql->-r requirements.txt (line 1)) (0.5.1)\n",
            "Requirement already satisfied: six in /home/alex/Projects/python/jupyter/.venv/lib/python3.11/site-packages (from ipython-sql->-r requirements.txt (line 1)) (1.16.0)\n",
            "Requirement already satisfied: ipython-genutils in /home/alex/Projects/python/jupyter/.venv/lib/python3.11/site-packages (from ipython-sql->-r requirements.txt (line 1)) (0.2.0)\n",
            "Requirement already satisfied: typing-extensions>=4.6.0 in /home/alex/Projects/python/jupyter/.venv/lib/python3.11/site-packages (from sqlalchemy>=2.0->ipython-sql->-r requirements.txt (line 1)) (4.12.2)\n",
            "Requirement already satisfied: greenlet!=0.4.17 in /home/alex/Projects/python/jupyter/.venv/lib/python3.11/site-packages (from sqlalchemy>=2.0->ipython-sql->-r requirements.txt (line 1)) (3.1.1)\n",
            "Requirement already satisfied: decorator in /home/alex/Projects/python/jupyter/.venv/lib/python3.11/site-packages (from ipython->ipython-sql->-r requirements.txt (line 1)) (5.1.1)\n",
            "Requirement already satisfied: jedi>=0.16 in /home/alex/Projects/python/jupyter/.venv/lib/python3.11/site-packages (from ipython->ipython-sql->-r requirements.txt (line 1)) (0.19.1)\n",
            "Requirement already satisfied: matplotlib-inline in /home/alex/Projects/python/jupyter/.venv/lib/python3.11/site-packages (from ipython->ipython-sql->-r requirements.txt (line 1)) (0.1.7)\n",
            "Requirement already satisfied: prompt-toolkit<3.1.0,>=3.0.41 in /home/alex/Projects/python/jupyter/.venv/lib/python3.11/site-packages (from ipython->ipython-sql->-r requirements.txt (line 1)) (3.0.48)\n",
            "Requirement already satisfied: pygments>=2.4.0 in /home/alex/Projects/python/jupyter/.venv/lib/python3.11/site-packages (from ipython->ipython-sql->-r requirements.txt (line 1)) (2.18.0)\n",
            "Requirement already satisfied: stack-data in /home/alex/Projects/python/jupyter/.venv/lib/python3.11/site-packages (from ipython->ipython-sql->-r requirements.txt (line 1)) (0.6.3)\n",
            "Requirement already satisfied: traitlets>=5.13.0 in /home/alex/Projects/python/jupyter/.venv/lib/python3.11/site-packages (from ipython->ipython-sql->-r requirements.txt (line 1)) (5.14.3)\n",
            "Requirement already satisfied: pexpect>4.3 in /home/alex/Projects/python/jupyter/.venv/lib/python3.11/site-packages (from ipython->ipython-sql->-r requirements.txt (line 1)) (4.9.0)\n",
            "Requirement already satisfied: wcwidth in /home/alex/Projects/python/jupyter/.venv/lib/python3.11/site-packages (from prettytable->ipython-sql->-r requirements.txt (line 1)) (0.2.13)\n",
            "Requirement already satisfied: parso<0.9.0,>=0.8.3 in /home/alex/Projects/python/jupyter/.venv/lib/python3.11/site-packages (from jedi>=0.16->ipython->ipython-sql->-r requirements.txt (line 1)) (0.8.4)\n",
            "Requirement already satisfied: ptyprocess>=0.5 in /home/alex/Projects/python/jupyter/.venv/lib/python3.11/site-packages (from pexpect>4.3->ipython->ipython-sql->-r requirements.txt (line 1)) (0.7.0)\n",
            "Requirement already satisfied: executing>=1.2.0 in /home/alex/Projects/python/jupyter/.venv/lib/python3.11/site-packages (from stack-data->ipython->ipython-sql->-r requirements.txt (line 1)) (2.1.0)\n",
            "Requirement already satisfied: asttokens>=2.1.0 in /home/alex/Projects/python/jupyter/.venv/lib/python3.11/site-packages (from stack-data->ipython->ipython-sql->-r requirements.txt (line 1)) (2.4.1)\n",
            "Requirement already satisfied: pure-eval in /home/alex/Projects/python/jupyter/.venv/lib/python3.11/site-packages (from stack-data->ipython->ipython-sql->-r requirements.txt (line 1)) (0.2.3)\n",
            "\n",
            "\u001b[1m[\u001b[0m\u001b[34;49mnotice\u001b[0m\u001b[1;39;49m]\u001b[0m\u001b[39;49m A new release of pip is available: \u001b[0m\u001b[31;49m24.0\u001b[0m\u001b[39;49m -> \u001b[0m\u001b[32;49m24.2\u001b[0m\n",
            "\u001b[1m[\u001b[0m\u001b[34;49mnotice\u001b[0m\u001b[1;39;49m]\u001b[0m\u001b[39;49m To update, run: \u001b[0m\u001b[32;49mpip install --upgrade pip\u001b[0m\n",
            "Note: you may need to restart the kernel to use updated packages.\n"
          ]
        }
      ],
      "source": [
        "%pip install -r requirements.txt"
      ]
    },
    {
      "cell_type": "code",
      "execution_count": 2,
      "metadata": {
        "id": "ct9OpQ853f3n"
      },
      "outputs": [],
      "source": [
        "%load_ext sql\n",
        "%sql sqlite://"
      ]
    },
    {
      "cell_type": "markdown",
      "metadata": {
        "id": "nMjULTOr3f3p"
      },
      "source": [
        "Создадим таблицу специальностей со следующими полями:\n",
        "1. id - уникальный идентификатор специальности\n",
        "2. Name - Специальность"
      ]
    },
    {
      "cell_type": "code",
      "execution_count": 3,
      "metadata": {
        "colab": {
          "base_uri": "https://localhost:8080/"
        },
        "id": "ZjlRJsr63f3p",
        "outputId": "1e3ec66a-ccfe-4c84-b000-39f93a944565"
      },
      "outputs": [
        {
          "name": "stdout",
          "output_type": "stream",
          "text": [
            " * sqlite://\n",
            "Done.\n",
            "Done.\n"
          ]
        },
        {
          "data": {
            "text/plain": [
              "[]"
            ]
          },
          "execution_count": 3,
          "metadata": {},
          "output_type": "execute_result"
        }
      ],
      "source": [
        "%%sql\n",
        "DROP TABLE IF EXISTS Specialities;\n",
        "\n",
        "CREATE TABLE Specialities\n",
        "(\n",
        "    id integer PRIMARY KEY,\n",
        "    name varchar(50)\n",
        ");"
      ]
    },
    {
      "cell_type": "markdown",
      "metadata": {
        "id": "vNpV5jjw3f3q"
      },
      "source": [
        "Проверим, что таблица создана"
      ]
    },
    {
      "cell_type": "code",
      "execution_count": 4,
      "metadata": {
        "colab": {
          "base_uri": "https://localhost:8080/",
          "height": 78
        },
        "id": "PHGSKu2-3f3q",
        "outputId": "cfe1dff3-b1cb-419b-88d7-df68f917b3cb"
      },
      "outputs": [
        {
          "name": "stdout",
          "output_type": "stream",
          "text": [
            " * sqlite://\n",
            "Done.\n"
          ]
        },
        {
          "data": {
            "text/html": [
              "<table>\n",
              "    <thead>\n",
              "        <tr>\n",
              "            <th>id</th>\n",
              "            <th>name</th>\n",
              "        </tr>\n",
              "    </thead>\n",
              "    <tbody>\n",
              "    </tbody>\n",
              "</table>"
            ],
            "text/plain": [
              "[]"
            ]
          },
          "execution_count": 4,
          "metadata": {},
          "output_type": "execute_result"
        }
      ],
      "source": [
        "%sql select * from Specialities"
      ]
    },
    {
      "cell_type": "markdown",
      "metadata": {
        "id": "NNU1lQAT3f3q"
      },
      "source": [
        "Заполним таблицу данными"
      ]
    },
    {
      "cell_type": "code",
      "execution_count": 5,
      "metadata": {
        "colab": {
          "base_uri": "https://localhost:8080/"
        },
        "id": "ffoy8GBQ3f3r",
        "outputId": "834a58fb-7ed3-4e20-fe8d-67e41ab6c157"
      },
      "outputs": [
        {
          "name": "stdout",
          "output_type": "stream",
          "text": [
            " * sqlite://\n",
            "7 rows affected.\n"
          ]
        },
        {
          "data": {
            "text/plain": [
              "[]"
            ]
          },
          "execution_count": 5,
          "metadata": {},
          "output_type": "execute_result"
        }
      ],
      "source": [
        "%%sql\n",
        "INSERT INTO Specialities(name) VALUES -- Автоинкрементация по PRIMARY KEY\n",
        "('Биотехнические системы и технологии'),\n",
        "('Компьютерная безопасность'),\n",
        "('Прикладная математика и информатика'),\n",
        "('Мехатроника и робототехника'),\n",
        "('Системный анализ и управление'),\n",
        "('Информационная безопасность телекоммуникационных систем'),\n",
        "('Управление в технических системах');"
      ]
    },
    {
      "cell_type": "markdown",
      "metadata": {
        "id": "Nbtm_2rx3f3r"
      },
      "source": [
        "SQLite требует включение поддержки внешних ключей.\n",
        "Более подробно можно посмотреть [здесь](https://sqlite.org/foreignkeys.html)"
      ]
    },
    {
      "cell_type": "code",
      "execution_count": 6,
      "metadata": {
        "colab": {
          "base_uri": "https://localhost:8080/"
        },
        "id": "QOcQJLCr3f3r",
        "outputId": "8db1819b-536e-4ffb-98fd-38184354dee4"
      },
      "outputs": [
        {
          "name": "stdout",
          "output_type": "stream",
          "text": [
            " * sqlite://\n",
            "Done.\n"
          ]
        },
        {
          "data": {
            "text/plain": [
              "[]"
            ]
          },
          "execution_count": 6,
          "metadata": {},
          "output_type": "execute_result"
        }
      ],
      "source": [
        "%%sql\n",
        "PRAGMA foreign_keys = ON;"
      ]
    },
    {
      "cell_type": "markdown",
      "metadata": {
        "id": "CMPVyr0G3f3s"
      },
      "source": [
        "Создадим таблицу Студентов со следующими полями:\n",
        "1. Student_id - уникальный идентификатор студента\n",
        "2. Name - имя студента\n",
        "3. Second Name - фамилия студента\n",
        "4. Speciality - специальность студента\n",
        "5. StudyGroup - группа студента\n",
        "6. GPA - средний балл"
      ]
    },
    {
      "cell_type": "code",
      "execution_count": 7,
      "metadata": {
        "colab": {
          "base_uri": "https://localhost:8080/"
        },
        "id": "iH4QwAPL3f3s",
        "outputId": "a36637f4-f87c-42a7-9022-10031aebfb22"
      },
      "outputs": [
        {
          "name": "stdout",
          "output_type": "stream",
          "text": [
            " * sqlite://\n",
            "Done.\n",
            "Done.\n"
          ]
        },
        {
          "data": {
            "text/plain": [
              "[]"
            ]
          },
          "execution_count": 7,
          "metadata": {},
          "output_type": "execute_result"
        }
      ],
      "source": [
        "%%sql\n",
        "DROP TABLE IF EXISTS Students;\n",
        "\n",
        "CREATE TABLE Students\n",
        "(\n",
        "    student_id integer PRIMARY KEY,\n",
        "    name varchar(50),\n",
        "    secondName varchar(50),\n",
        "    speciality_id integer,\n",
        "    studyGroup varchar(20),\n",
        "    GPA decimal(1,1),\n",
        "    FOREIGN KEY (Speciality_id) REFERENCES Specialities(id)\n",
        ");"
      ]
    },
    {
      "cell_type": "markdown",
      "metadata": {
        "id": "9hb9w8oC3f3s"
      },
      "source": [
        "Проверим, что таблица создана"
      ]
    },
    {
      "cell_type": "code",
      "execution_count": 8,
      "metadata": {
        "colab": {
          "base_uri": "https://localhost:8080/",
          "height": 78
        },
        "id": "6IMmHj9J3f3s",
        "outputId": "762b6b98-83fe-4913-b44b-310a6fdc0af8"
      },
      "outputs": [
        {
          "name": "stdout",
          "output_type": "stream",
          "text": [
            " * sqlite://\n",
            "Done.\n"
          ]
        },
        {
          "data": {
            "text/html": [
              "<table>\n",
              "    <thead>\n",
              "        <tr>\n",
              "            <th>student_id</th>\n",
              "            <th>name</th>\n",
              "            <th>secondName</th>\n",
              "            <th>speciality_id</th>\n",
              "            <th>studyGroup</th>\n",
              "            <th>GPA</th>\n",
              "        </tr>\n",
              "    </thead>\n",
              "    <tbody>\n",
              "    </tbody>\n",
              "</table>"
            ],
            "text/plain": [
              "[]"
            ]
          },
          "execution_count": 8,
          "metadata": {},
          "output_type": "execute_result"
        }
      ],
      "source": [
        "%sql select * from Students"
      ]
    },
    {
      "cell_type": "markdown",
      "metadata": {
        "id": "5rUU1gfv3f3t"
      },
      "source": [
        "Заполним таблицу данными"
      ]
    },
    {
      "cell_type": "code",
      "execution_count": 9,
      "metadata": {
        "colab": {
          "base_uri": "https://localhost:8080/"
        },
        "id": "PISGbGrC3f3t",
        "outputId": "14fa76a3-8cc8-4ac5-a6b8-7cc42c3371b4"
      },
      "outputs": [
        {
          "name": "stdout",
          "output_type": "stream",
          "text": [
            " * sqlite://\n",
            "1 rows affected.\n",
            "1 rows affected.\n",
            "1 rows affected.\n",
            "1 rows affected.\n",
            "1 rows affected.\n",
            "1 rows affected.\n",
            "1 rows affected.\n",
            "1 rows affected.\n",
            "1 rows affected.\n",
            "1 rows affected.\n",
            "1 rows affected.\n",
            "1 rows affected.\n",
            "1 rows affected.\n",
            "1 rows affected.\n",
            "1 rows affected.\n",
            "1 rows affected.\n",
            "1 rows affected.\n"
          ]
        },
        {
          "data": {
            "text/plain": [
              "[]"
            ]
          },
          "execution_count": 9,
          "metadata": {},
          "output_type": "execute_result"
        }
      ],
      "source": [
        "%%sql\n",
        "insert into Students(student_id, SecondName, Name, Speciality_id, StudyGroup, GPA) VALUES (1, 'Альянов', 'Николай', 1, '04-25', 3.58);\n",
        "insert into Students(student_id, SecondName, Name, Speciality_id, StudyGroup, GPA) VALUES (2, 'Киселева', 'Ева', 1, '01-25', 4.58);\n",
        "insert into Students(student_id, SecondName, Name, Speciality_id, StudyGroup, GPA) VALUES (3, 'Исаева', 'Анна', 1, '01-25', 4.75);\n",
        "insert into Students(student_id, SecondName, Name, Speciality_id, StudyGroup, GPA) VALUES (4, 'Егоров', 'Павел', 2, '01-25', 4.83);\n",
        "insert into Students(student_id, SecondName, Name, Speciality_id, StudyGroup, GPA) VALUES (5, 'Тихомиров', 'Тимофей', 2, '03-25', 4.18);\n",
        "insert into Students(student_id, SecondName, Name, Speciality_id, StudyGroup, GPA) VALUES (6, 'Ширшов', 'Александр', 2, '06-25', 3.91);\n",
        "insert into Students(student_id, SecondName, Name, Speciality_id, StudyGroup, GPA) VALUES (7, 'Фатеев', 'Максим', 3, '05-25', 3.8);\n",
        "insert into Students(student_id, SecondName, Name, Speciality_id, StudyGroup, GPA) VALUES (8, 'Киселев', 'Петр',  3, '05-25', 3.5);\n",
        "insert into Students(student_id, SecondName, Name, Speciality_id, StudyGroup, GPA) VALUES (9, 'Агашкина', 'Дарья', 4, '02-25', 4.18);\n",
        "insert into Students(student_id, SecondName, Name, Speciality_id, StudyGroup, GPA) VALUES (11, 'Комарова', 'Екатерина', 6, '02-25', 4.83);\n",
        "insert into Students(student_id, SecondName, Name, Speciality_id, StudyGroup, GPA) VALUES (12, 'Челыхов', 'Иван', 6, '06-25', 4.45);\n",
        "insert into Students(student_id, SecondName, Name, Speciality_id, StudyGroup, GPA) VALUES (13, 'Назаров', 'Александр', 6, '06-25', 3.73);\n",
        "insert into Students(student_id, SecondName, Name, Speciality_id, StudyGroup, GPA) VALUES (14, 'Горлова', 'Ксения', 7, '01-25', 5);\n",
        "insert into Students(student_id, SecondName, Name, Speciality_id, StudyGroup, GPA) VALUES (17, 'Горин', 'Олег', 5, '01-25', 3.89);\n",
        "insert into Students(student_id, SecondName, Name, Speciality_id, StudyGroup, GPA) VALUES (18, 'Остапенко', 'Алексей', 5, '04-25', 3.81);\n",
        "insert into Students(student_id, SecondName, Name, Speciality_id, StudyGroup, GPA) VALUES (19, 'Антонникова', 'Валерия', 5, '04-25', 4.89);\n",
        "insert into Students(student_id, SecondName, Name, Speciality_id, StudyGroup, GPA) VALUES (20, 'Котова', 'Евгения', 3, '05-25', 4.29);"
      ]
    },
    {
      "cell_type": "markdown",
      "metadata": {
        "id": "ikX4Z-jW3f3t"
      },
      "source": [
        "Проверим наличие данных"
      ]
    },
    {
      "cell_type": "code",
      "execution_count": 10,
      "metadata": {
        "colab": {
          "base_uri": "https://localhost:8080/",
          "height": 439
        },
        "id": "eq9zXRxN3f3u",
        "outputId": "cecb09f0-ecae-45cd-b0d5-2628906c640a"
      },
      "outputs": [
        {
          "name": "stdout",
          "output_type": "stream",
          "text": [
            " * sqlite://\n",
            "Done.\n"
          ]
        },
        {
          "data": {
            "text/html": [
              "<table>\n",
              "    <thead>\n",
              "        <tr>\n",
              "            <th>student_id</th>\n",
              "            <th>name</th>\n",
              "            <th>secondName</th>\n",
              "            <th>speciality_id</th>\n",
              "            <th>studyGroup</th>\n",
              "            <th>GPA</th>\n",
              "        </tr>\n",
              "    </thead>\n",
              "    <tbody>\n",
              "        <tr>\n",
              "            <td>1</td>\n",
              "            <td>Николай</td>\n",
              "            <td>Альянов</td>\n",
              "            <td>1</td>\n",
              "            <td>04-25</td>\n",
              "            <td>3.58</td>\n",
              "        </tr>\n",
              "        <tr>\n",
              "            <td>2</td>\n",
              "            <td>Ева</td>\n",
              "            <td>Киселева</td>\n",
              "            <td>1</td>\n",
              "            <td>01-25</td>\n",
              "            <td>4.58</td>\n",
              "        </tr>\n",
              "        <tr>\n",
              "            <td>3</td>\n",
              "            <td>Анна</td>\n",
              "            <td>Исаева</td>\n",
              "            <td>1</td>\n",
              "            <td>01-25</td>\n",
              "            <td>4.75</td>\n",
              "        </tr>\n",
              "        <tr>\n",
              "            <td>4</td>\n",
              "            <td>Павел</td>\n",
              "            <td>Егоров</td>\n",
              "            <td>2</td>\n",
              "            <td>01-25</td>\n",
              "            <td>4.83</td>\n",
              "        </tr>\n",
              "        <tr>\n",
              "            <td>5</td>\n",
              "            <td>Тимофей</td>\n",
              "            <td>Тихомиров</td>\n",
              "            <td>2</td>\n",
              "            <td>03-25</td>\n",
              "            <td>4.18</td>\n",
              "        </tr>\n",
              "        <tr>\n",
              "            <td>6</td>\n",
              "            <td>Александр</td>\n",
              "            <td>Ширшов</td>\n",
              "            <td>2</td>\n",
              "            <td>06-25</td>\n",
              "            <td>3.91</td>\n",
              "        </tr>\n",
              "        <tr>\n",
              "            <td>7</td>\n",
              "            <td>Максим</td>\n",
              "            <td>Фатеев</td>\n",
              "            <td>3</td>\n",
              "            <td>05-25</td>\n",
              "            <td>3.8</td>\n",
              "        </tr>\n",
              "        <tr>\n",
              "            <td>8</td>\n",
              "            <td>Петр</td>\n",
              "            <td>Киселев</td>\n",
              "            <td>3</td>\n",
              "            <td>05-25</td>\n",
              "            <td>3.5</td>\n",
              "        </tr>\n",
              "        <tr>\n",
              "            <td>9</td>\n",
              "            <td>Дарья</td>\n",
              "            <td>Агашкина</td>\n",
              "            <td>4</td>\n",
              "            <td>02-25</td>\n",
              "            <td>4.18</td>\n",
              "        </tr>\n",
              "        <tr>\n",
              "            <td>11</td>\n",
              "            <td>Екатерина</td>\n",
              "            <td>Комарова</td>\n",
              "            <td>6</td>\n",
              "            <td>02-25</td>\n",
              "            <td>4.83</td>\n",
              "        </tr>\n",
              "        <tr>\n",
              "            <td>12</td>\n",
              "            <td>Иван</td>\n",
              "            <td>Челыхов</td>\n",
              "            <td>6</td>\n",
              "            <td>06-25</td>\n",
              "            <td>4.45</td>\n",
              "        </tr>\n",
              "        <tr>\n",
              "            <td>13</td>\n",
              "            <td>Александр</td>\n",
              "            <td>Назаров</td>\n",
              "            <td>6</td>\n",
              "            <td>06-25</td>\n",
              "            <td>3.73</td>\n",
              "        </tr>\n",
              "        <tr>\n",
              "            <td>14</td>\n",
              "            <td>Ксения</td>\n",
              "            <td>Горлова</td>\n",
              "            <td>7</td>\n",
              "            <td>01-25</td>\n",
              "            <td>5</td>\n",
              "        </tr>\n",
              "        <tr>\n",
              "            <td>17</td>\n",
              "            <td>Олег</td>\n",
              "            <td>Горин</td>\n",
              "            <td>5</td>\n",
              "            <td>01-25</td>\n",
              "            <td>3.89</td>\n",
              "        </tr>\n",
              "        <tr>\n",
              "            <td>18</td>\n",
              "            <td>Алексей</td>\n",
              "            <td>Остапенко</td>\n",
              "            <td>5</td>\n",
              "            <td>04-25</td>\n",
              "            <td>3.81</td>\n",
              "        </tr>\n",
              "        <tr>\n",
              "            <td>19</td>\n",
              "            <td>Валерия</td>\n",
              "            <td>Антонникова</td>\n",
              "            <td>5</td>\n",
              "            <td>04-25</td>\n",
              "            <td>4.89</td>\n",
              "        </tr>\n",
              "        <tr>\n",
              "            <td>20</td>\n",
              "            <td>Евгения</td>\n",
              "            <td>Котова</td>\n",
              "            <td>3</td>\n",
              "            <td>05-25</td>\n",
              "            <td>4.29</td>\n",
              "        </tr>\n",
              "    </tbody>\n",
              "</table>"
            ],
            "text/plain": [
              "[(1, 'Николай', 'Альянов', 1, '04-25', 3.58),\n",
              " (2, 'Ева', 'Киселева', 1, '01-25', 4.58),\n",
              " (3, 'Анна', 'Исаева', 1, '01-25', 4.75),\n",
              " (4, 'Павел', 'Егоров', 2, '01-25', 4.83),\n",
              " (5, 'Тимофей', 'Тихомиров', 2, '03-25', 4.18),\n",
              " (6, 'Александр', 'Ширшов', 2, '06-25', 3.91),\n",
              " (7, 'Максим', 'Фатеев', 3, '05-25', 3.8),\n",
              " (8, 'Петр', 'Киселев', 3, '05-25', 3.5),\n",
              " (9, 'Дарья', 'Агашкина', 4, '02-25', 4.18),\n",
              " (11, 'Екатерина', 'Комарова', 6, '02-25', 4.83),\n",
              " (12, 'Иван', 'Челыхов', 6, '06-25', 4.45),\n",
              " (13, 'Александр', 'Назаров', 6, '06-25', 3.73),\n",
              " (14, 'Ксения', 'Горлова', 7, '01-25', 5),\n",
              " (17, 'Олег', 'Горин', 5, '01-25', 3.89),\n",
              " (18, 'Алексей', 'Остапенко', 5, '04-25', 3.81),\n",
              " (19, 'Валерия', 'Антонникова', 5, '04-25', 4.89),\n",
              " (20, 'Евгения', 'Котова', 3, '05-25', 4.29)]"
            ]
          },
          "execution_count": 10,
          "metadata": {},
          "output_type": "execute_result"
        }
      ],
      "source": [
        "%sql select * from Students;"
      ]
    },
    {
      "cell_type": "code",
      "execution_count": 11,
      "metadata": {
        "colab": {
          "base_uri": "https://localhost:8080/",
          "height": 225
        },
        "id": "yYtrbXwa3f3u",
        "outputId": "17d90573-b1c2-4d9f-d525-b80e27baac39"
      },
      "outputs": [
        {
          "name": "stdout",
          "output_type": "stream",
          "text": [
            " * sqlite://\n",
            "Done.\n"
          ]
        },
        {
          "data": {
            "text/html": [
              "<table>\n",
              "    <thead>\n",
              "        <tr>\n",
              "            <th>id</th>\n",
              "            <th>name</th>\n",
              "        </tr>\n",
              "    </thead>\n",
              "    <tbody>\n",
              "        <tr>\n",
              "            <td>1</td>\n",
              "            <td>Биотехнические системы и технологии</td>\n",
              "        </tr>\n",
              "        <tr>\n",
              "            <td>2</td>\n",
              "            <td>Компьютерная безопасность</td>\n",
              "        </tr>\n",
              "        <tr>\n",
              "            <td>3</td>\n",
              "            <td>Прикладная математика и информатика</td>\n",
              "        </tr>\n",
              "        <tr>\n",
              "            <td>4</td>\n",
              "            <td>Мехатроника и робототехника</td>\n",
              "        </tr>\n",
              "        <tr>\n",
              "            <td>5</td>\n",
              "            <td>Системный анализ и управление</td>\n",
              "        </tr>\n",
              "        <tr>\n",
              "            <td>6</td>\n",
              "            <td>Информационная безопасность телекоммуникационных систем</td>\n",
              "        </tr>\n",
              "        <tr>\n",
              "            <td>7</td>\n",
              "            <td>Управление в технических системах</td>\n",
              "        </tr>\n",
              "    </tbody>\n",
              "</table>"
            ],
            "text/plain": [
              "[(1, 'Биотехнические системы и технологии'),\n",
              " (2, 'Компьютерная безопасность'),\n",
              " (3, 'Прикладная математика и информатика'),\n",
              " (4, 'Мехатроника и робототехника'),\n",
              " (5, 'Системный анализ и управление'),\n",
              " (6, 'Информационная безопасность телекоммуникационных систем'),\n",
              " (7, 'Управление в технических системах')]"
            ]
          },
          "execution_count": 11,
          "metadata": {},
          "output_type": "execute_result"
        }
      ],
      "source": [
        "%sql select * from Specialities;"
      ]
    },
    {
      "cell_type": "markdown",
      "metadata": {
        "id": "aC50VcAG3f3u"
      },
      "source": [
        "## Задание 1. Напишите SQL-запрос, возвращающий фамилии всех студентов с именем Александр"
      ]
    },
    {
      "cell_type": "code",
      "execution_count": 12,
      "metadata": {
        "colab": {
          "base_uri": "https://localhost:8080/",
          "height": 118
        },
        "id": "LNHUYlRElNNm",
        "outputId": "fac1ce4f-f6b9-4fe0-a7a3-68aece695150"
      },
      "outputs": [
        {
          "name": "stdout",
          "output_type": "stream",
          "text": [
            " * sqlite://\n",
            "Done.\n"
          ]
        },
        {
          "data": {
            "text/html": [
              "<table>\n",
              "    <thead>\n",
              "        <tr>\n",
              "            <th>secondName</th>\n",
              "        </tr>\n",
              "    </thead>\n",
              "    <tbody>\n",
              "        <tr>\n",
              "            <td>Ширшов</td>\n",
              "        </tr>\n",
              "        <tr>\n",
              "            <td>Назаров</td>\n",
              "        </tr>\n",
              "    </tbody>\n",
              "</table>"
            ],
            "text/plain": [
              "[('Ширшов',), ('Назаров',)]"
            ]
          },
          "execution_count": 12,
          "metadata": {},
          "output_type": "execute_result"
        }
      ],
      "source": [
        "%%sql\n",
        "\n",
        "SELECT\n",
        "  secondname\n",
        "FROM\n",
        "  Students\n",
        "WHERE\n",
        "  name = 'Александр';"
      ]
    },
    {
      "cell_type": "markdown",
      "metadata": {
        "id": "Hi4QfjHx3f3v"
      },
      "source": [
        "## Задание 2. Выведите все названия специальностей, на которых учится хотя бы один студент со средним баллом 4.5 и выше. Имя специальности должно встречаться один раз в выводе"
      ]
    },
    {
      "cell_type": "code",
      "execution_count": 13,
      "metadata": {
        "colab": {
          "base_uri": "https://localhost:8080/",
          "height": 182
        },
        "id": "RH5DOJz83f3v",
        "outputId": "cd316920-d094-4607-871e-0c1f8b6808b7"
      },
      "outputs": [
        {
          "name": "stdout",
          "output_type": "stream",
          "text": [
            " * sqlite://\n",
            "Done.\n"
          ]
        },
        {
          "data": {
            "text/html": [
              "<table>\n",
              "    <thead>\n",
              "        <tr>\n",
              "            <th>name</th>\n",
              "        </tr>\n",
              "    </thead>\n",
              "    <tbody>\n",
              "        <tr>\n",
              "            <td>Биотехнические системы и технологии</td>\n",
              "        </tr>\n",
              "        <tr>\n",
              "            <td>Компьютерная безопасность</td>\n",
              "        </tr>\n",
              "        <tr>\n",
              "            <td>Системный анализ и управление</td>\n",
              "        </tr>\n",
              "        <tr>\n",
              "            <td>Информационная безопасность телекоммуникационных систем</td>\n",
              "        </tr>\n",
              "        <tr>\n",
              "            <td>Управление в технических системах</td>\n",
              "        </tr>\n",
              "    </tbody>\n",
              "</table>"
            ],
            "text/plain": [
              "[('Биотехнические системы и технологии',),\n",
              " ('Компьютерная безопасность',),\n",
              " ('Системный анализ и управление',),\n",
              " ('Информационная безопасность телекоммуникационных систем',),\n",
              " ('Управление в технических системах',)]"
            ]
          },
          "execution_count": 13,
          "metadata": {},
          "output_type": "execute_result"
        }
      ],
      "source": [
        "%%sql\n",
        "\n",
        "SELECT\n",
        "  name\n",
        "FROM\n",
        "  Specialities\n",
        "WHERE\n",
        "  id IN (\n",
        "    SELECT\n",
        "      speciality_id\n",
        "    FROM\n",
        "      Students\n",
        "    WHERE\n",
        "      gpa > 4.5\n",
        "  );"
      ]
    },
    {
      "cell_type": "markdown",
      "metadata": {
        "collapsed": true,
        "id": "tjapuoH13f3v"
      },
      "source": [
        "## Задание 3. Вывести только тех студентов, фамилия которых начинается с буквы 'к', а в имени есть буква 'е'."
      ]
    },
    {
      "cell_type": "code",
      "execution_count": 14,
      "metadata": {
        "colab": {
          "base_uri": "https://localhost:8080/",
          "height": 161
        },
        "id": "_0dw3OJm3f3v",
        "outputId": "3be1cfb9-c6b6-46bd-a473-abdb31617cca"
      },
      "outputs": [
        {
          "name": "stdout",
          "output_type": "stream",
          "text": [
            " * sqlite://\n",
            "Done.\n"
          ]
        },
        {
          "data": {
            "text/html": [
              "<table>\n",
              "    <thead>\n",
              "        <tr>\n",
              "            <th>student_id</th>\n",
              "            <th>name</th>\n",
              "            <th>secondName</th>\n",
              "            <th>speciality_id</th>\n",
              "            <th>studyGroup</th>\n",
              "            <th>GPA</th>\n",
              "        </tr>\n",
              "    </thead>\n",
              "    <tbody>\n",
              "        <tr>\n",
              "            <td>2</td>\n",
              "            <td>Ева</td>\n",
              "            <td>Киселева</td>\n",
              "            <td>1</td>\n",
              "            <td>01-25</td>\n",
              "            <td>4.58</td>\n",
              "        </tr>\n",
              "        <tr>\n",
              "            <td>8</td>\n",
              "            <td>Петр</td>\n",
              "            <td>Киселев</td>\n",
              "            <td>3</td>\n",
              "            <td>05-25</td>\n",
              "            <td>3.5</td>\n",
              "        </tr>\n",
              "        <tr>\n",
              "            <td>11</td>\n",
              "            <td>Екатерина</td>\n",
              "            <td>Комарова</td>\n",
              "            <td>6</td>\n",
              "            <td>02-25</td>\n",
              "            <td>4.83</td>\n",
              "        </tr>\n",
              "        <tr>\n",
              "            <td>20</td>\n",
              "            <td>Евгения</td>\n",
              "            <td>Котова</td>\n",
              "            <td>3</td>\n",
              "            <td>05-25</td>\n",
              "            <td>4.29</td>\n",
              "        </tr>\n",
              "    </tbody>\n",
              "</table>"
            ],
            "text/plain": [
              "[(2, 'Ева', 'Киселева', 1, '01-25', 4.58),\n",
              " (8, 'Петр', 'Киселев', 3, '05-25', 3.5),\n",
              " (11, 'Екатерина', 'Комарова', 6, '02-25', 4.83),\n",
              " (20, 'Евгения', 'Котова', 3, '05-25', 4.29)]"
            ]
          },
          "execution_count": 14,
          "metadata": {},
          "output_type": "execute_result"
        }
      ],
      "source": [
        "%%sql\n",
        "\n",
        "SELECT\n",
        "  *\n",
        "FROM\n",
        "  Students\n",
        "WHERE\n",
        "  secondname LIKE 'К%'\n",
        "  AND (\n",
        "    name LIKE '%е%'\n",
        "    OR name LIKE 'Е%'\n",
        "  );"
      ]
    },
    {
      "cell_type": "markdown",
      "metadata": {
        "id": "0TS2W3aV3f3v"
      },
      "source": [
        "## Задание 4. Вывести специальности (+ их средние баллы), количество групп в которых больше одной"
      ]
    },
    {
      "cell_type": "code",
      "execution_count": 15,
      "metadata": {
        "colab": {
          "base_uri": "https://localhost:8080/",
          "height": 161
        },
        "id": "CksfJ26Fd5RT",
        "outputId": "b2291cde-2ab6-4839-fb4a-91950a850a68"
      },
      "outputs": [
        {
          "name": "stdout",
          "output_type": "stream",
          "text": [
            " * sqlite://\n",
            "Done.\n"
          ]
        },
        {
          "data": {
            "text/html": [
              "<table>\n",
              "    <thead>\n",
              "        <tr>\n",
              "            <th>name</th>\n",
              "            <th>average</th>\n",
              "        </tr>\n",
              "    </thead>\n",
              "    <tbody>\n",
              "        <tr>\n",
              "            <td>Биотехнические системы и технологии</td>\n",
              "            <td>4.303333333333334</td>\n",
              "        </tr>\n",
              "        <tr>\n",
              "            <td>Компьютерная безопасность</td>\n",
              "            <td>4.306666666666667</td>\n",
              "        </tr>\n",
              "        <tr>\n",
              "            <td>Системный анализ и управление</td>\n",
              "            <td>4.196666666666666</td>\n",
              "        </tr>\n",
              "        <tr>\n",
              "            <td>Информационная безопасность телекоммуникационных систем</td>\n",
              "            <td>4.336666666666667</td>\n",
              "        </tr>\n",
              "    </tbody>\n",
              "</table>"
            ],
            "text/plain": [
              "[('Биотехнические системы и технологии', 4.303333333333334),\n",
              " ('Компьютерная безопасность', 4.306666666666667),\n",
              " ('Системный анализ и управление', 4.196666666666666),\n",
              " ('Информационная безопасность телекоммуникационных систем', 4.336666666666667)]"
            ]
          },
          "execution_count": 15,
          "metadata": {},
          "output_type": "execute_result"
        }
      ],
      "source": [
        "%%sql\n",
        "\n",
        "SELECT\n",
        "  name,\n",
        "  (\n",
        "    SELECT\n",
        "      AVG(gpa)\n",
        "    FROM\n",
        "      Students stud\n",
        "    WHERE\n",
        "      stud.speciality_id = spec.id\n",
        "  ) average\n",
        "FROM\n",
        "  Specialities spec\n",
        "WHERE\n",
        "  (\n",
        "    SELECT\n",
        "      COUNT(DISTINCT Studygroup)\n",
        "    FROM\n",
        "      Students stud\n",
        "    WHERE\n",
        "      stud.speciality_id = spec.id\n",
        "  ) > 1;"
      ]
    },
    {
      "cell_type": "markdown",
      "metadata": {
        "id": "msNP-JhP3f3w"
      },
      "source": [
        "## Задание 5. Для всех специальностей вывести средний балл по специальности для студентов, в чьей фамилия вторая буква НЕ 'а', при условии, что количество таких студентов на специальности не менее 2. В обратном случае, специальность выводить не требуется"
      ]
    },
    {
      "cell_type": "code",
      "execution_count": 16,
      "metadata": {
        "colab": {
          "base_uri": "https://localhost:8080/",
          "height": 182
        },
        "id": "XvQ0SwGB3f3w",
        "outputId": "763b027d-2311-4404-f18d-d1db0830d33e"
      },
      "outputs": [
        {
          "name": "stdout",
          "output_type": "stream",
          "text": [
            " * sqlite://\n",
            "Done.\n"
          ]
        },
        {
          "data": {
            "text/html": [
              "<table>\n",
              "    <thead>\n",
              "        <tr>\n",
              "            <th>name</th>\n",
              "            <th>average</th>\n",
              "        </tr>\n",
              "    </thead>\n",
              "    <tbody>\n",
              "        <tr>\n",
              "            <td>Биотехнические системы и технологии</td>\n",
              "            <td>4.303333333333334</td>\n",
              "        </tr>\n",
              "        <tr>\n",
              "            <td>Компьютерная безопасность</td>\n",
              "            <td>4.045</td>\n",
              "        </tr>\n",
              "        <tr>\n",
              "            <td>Прикладная математика и информатика</td>\n",
              "            <td>3.895</td>\n",
              "        </tr>\n",
              "        <tr>\n",
              "            <td>Системный анализ и управление</td>\n",
              "            <td>3.85</td>\n",
              "        </tr>\n",
              "        <tr>\n",
              "            <td>Информационная безопасность телекоммуникационных систем</td>\n",
              "            <td>4.336666666666667</td>\n",
              "        </tr>\n",
              "    </tbody>\n",
              "</table>"
            ],
            "text/plain": [
              "[('Биотехнические системы и технологии', 4.303333333333334),\n",
              " ('Компьютерная безопасность', 4.045),\n",
              " ('Прикладная математика и информатика', 3.895),\n",
              " ('Системный анализ и управление', 3.85),\n",
              " ('Информационная безопасность телекоммуникационных систем', 4.336666666666667)]"
            ]
          },
          "execution_count": 16,
          "metadata": {},
          "output_type": "execute_result"
        }
      ],
      "source": [
        "%%sql\n",
        "\n",
        "SELECT\n",
        "  name,\n",
        "  (\n",
        "    SELECT\n",
        "      AVG(gpa)\n",
        "    FROM\n",
        "      Students stud\n",
        "    WHERE\n",
        "      stud.speciality_id = spec.id\n",
        "      AND stud.name NOT LIKE '_а%'\n",
        "  ) average\n",
        "FROM\n",
        "  Specialities spec\n",
        "WHERE\n",
        "  (\n",
        "    SELECT\n",
        "      COUNT(*)\n",
        "    FROM\n",
        "      Students stud\n",
        "    WHERE\n",
        "      stud.speciality_id = spec.id\n",
        "      AND stud.name NOT LIKE '_а%'\n",
        "  ) > 1;"
      ]
    }
  ],
  "metadata": {
    "colab": {
      "provenance": []
    },
    "kernelspec": {
      "display_name": "Python 3",
      "language": "python",
      "name": "python3"
    },
    "language_info": {
      "codemirror_mode": {
        "name": "ipython",
        "version": 3
      },
      "file_extension": ".py",
      "mimetype": "text/x-python",
      "name": "python",
      "nbconvert_exporter": "python",
      "pygments_lexer": "ipython3",
      "version": "3.11.9"
    }
  },
  "nbformat": 4,
  "nbformat_minor": 0
}
