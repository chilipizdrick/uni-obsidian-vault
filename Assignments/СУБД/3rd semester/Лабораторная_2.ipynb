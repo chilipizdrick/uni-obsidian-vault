{
  "cells": [
    {
      "cell_type": "code",
      "execution_count": 18,
      "metadata": {},
      "outputs": [
        {
          "name": "stdout",
          "output_type": "stream",
          "text": [
            "Requirement already satisfied: ipython-sql in /home/alex/Projects/python/jupyter/.venv/lib/python3.11/site-packages (from -r requirements.txt (line 1)) (0.5.0)\n",
            "Requirement already satisfied: prettytable in /home/alex/Projects/python/jupyter/.venv/lib/python3.11/site-packages (from ipython-sql->-r requirements.txt (line 1)) (3.11.0)\n",
            "Requirement already satisfied: ipython in /home/alex/Projects/python/jupyter/.venv/lib/python3.11/site-packages (from ipython-sql->-r requirements.txt (line 1)) (8.27.0)\n",
            "Requirement already satisfied: sqlalchemy>=2.0 in /home/alex/Projects/python/jupyter/.venv/lib/python3.11/site-packages (from ipython-sql->-r requirements.txt (line 1)) (2.0.35)\n",
            "Requirement already satisfied: sqlparse in /home/alex/Projects/python/jupyter/.venv/lib/python3.11/site-packages (from ipython-sql->-r requirements.txt (line 1)) (0.5.1)\n",
            "Requirement already satisfied: six in /home/alex/Projects/python/jupyter/.venv/lib/python3.11/site-packages (from ipython-sql->-r requirements.txt (line 1)) (1.16.0)\n",
            "Requirement already satisfied: ipython-genutils in /home/alex/Projects/python/jupyter/.venv/lib/python3.11/site-packages (from ipython-sql->-r requirements.txt (line 1)) (0.2.0)\n",
            "Requirement already satisfied: typing-extensions>=4.6.0 in /home/alex/Projects/python/jupyter/.venv/lib/python3.11/site-packages (from sqlalchemy>=2.0->ipython-sql->-r requirements.txt (line 1)) (4.12.2)\n",
            "Requirement already satisfied: greenlet!=0.4.17 in /home/alex/Projects/python/jupyter/.venv/lib/python3.11/site-packages (from sqlalchemy>=2.0->ipython-sql->-r requirements.txt (line 1)) (3.1.1)\n",
            "Requirement already satisfied: decorator in /home/alex/Projects/python/jupyter/.venv/lib/python3.11/site-packages (from ipython->ipython-sql->-r requirements.txt (line 1)) (5.1.1)\n",
            "Requirement already satisfied: jedi>=0.16 in /home/alex/Projects/python/jupyter/.venv/lib/python3.11/site-packages (from ipython->ipython-sql->-r requirements.txt (line 1)) (0.19.1)\n",
            "Requirement already satisfied: matplotlib-inline in /home/alex/Projects/python/jupyter/.venv/lib/python3.11/site-packages (from ipython->ipython-sql->-r requirements.txt (line 1)) (0.1.7)\n",
            "Requirement already satisfied: prompt-toolkit<3.1.0,>=3.0.41 in /home/alex/Projects/python/jupyter/.venv/lib/python3.11/site-packages (from ipython->ipython-sql->-r requirements.txt (line 1)) (3.0.48)\n",
            "Requirement already satisfied: pygments>=2.4.0 in /home/alex/Projects/python/jupyter/.venv/lib/python3.11/site-packages (from ipython->ipython-sql->-r requirements.txt (line 1)) (2.18.0)\n",
            "Requirement already satisfied: stack-data in /home/alex/Projects/python/jupyter/.venv/lib/python3.11/site-packages (from ipython->ipython-sql->-r requirements.txt (line 1)) (0.6.3)\n",
            "Requirement already satisfied: traitlets>=5.13.0 in /home/alex/Projects/python/jupyter/.venv/lib/python3.11/site-packages (from ipython->ipython-sql->-r requirements.txt (line 1)) (5.14.3)\n",
            "Requirement already satisfied: pexpect>4.3 in /home/alex/Projects/python/jupyter/.venv/lib/python3.11/site-packages (from ipython->ipython-sql->-r requirements.txt (line 1)) (4.9.0)\n",
            "Requirement already satisfied: wcwidth in /home/alex/Projects/python/jupyter/.venv/lib/python3.11/site-packages (from prettytable->ipython-sql->-r requirements.txt (line 1)) (0.2.13)\n",
            "Requirement already satisfied: parso<0.9.0,>=0.8.3 in /home/alex/Projects/python/jupyter/.venv/lib/python3.11/site-packages (from jedi>=0.16->ipython->ipython-sql->-r requirements.txt (line 1)) (0.8.4)\n",
            "Requirement already satisfied: ptyprocess>=0.5 in /home/alex/Projects/python/jupyter/.venv/lib/python3.11/site-packages (from pexpect>4.3->ipython->ipython-sql->-r requirements.txt (line 1)) (0.7.0)\n",
            "Requirement already satisfied: executing>=1.2.0 in /home/alex/Projects/python/jupyter/.venv/lib/python3.11/site-packages (from stack-data->ipython->ipython-sql->-r requirements.txt (line 1)) (2.1.0)\n",
            "Requirement already satisfied: asttokens>=2.1.0 in /home/alex/Projects/python/jupyter/.venv/lib/python3.11/site-packages (from stack-data->ipython->ipython-sql->-r requirements.txt (line 1)) (2.4.1)\n",
            "Requirement already satisfied: pure-eval in /home/alex/Projects/python/jupyter/.venv/lib/python3.11/site-packages (from stack-data->ipython->ipython-sql->-r requirements.txt (line 1)) (0.2.3)\n",
            "\n",
            "\u001b[1m[\u001b[0m\u001b[34;49mnotice\u001b[0m\u001b[1;39;49m]\u001b[0m\u001b[39;49m A new release of pip is available: \u001b[0m\u001b[31;49m24.0\u001b[0m\u001b[39;49m -> \u001b[0m\u001b[32;49m24.2\u001b[0m\n",
            "\u001b[1m[\u001b[0m\u001b[34;49mnotice\u001b[0m\u001b[1;39;49m]\u001b[0m\u001b[39;49m To update, run: \u001b[0m\u001b[32;49mpip install --upgrade pip\u001b[0m\n",
            "Note: you may need to restart the kernel to use updated packages.\n"
          ]
        }
      ],
      "source": [
        "%pip install -r requirements.txt"
      ]
    },
    {
      "cell_type": "code",
      "execution_count": 19,
      "metadata": {
        "id": "exFkotWz7Lk_"
      },
      "outputs": [
        {
          "name": "stdout",
          "output_type": "stream",
          "text": [
            "The sql extension is already loaded. To reload it, use:\n",
            "  %reload_ext sql\n"
          ]
        }
      ],
      "source": [
        "%load_ext sql\n",
        "%sql sqlite:///store.db"
      ]
    },
    {
      "cell_type": "markdown",
      "metadata": {},
      "source": [
        "![scheme](scheme.png)"
      ]
    },
    {
      "cell_type": "code",
      "execution_count": 20,
      "metadata": {},
      "outputs": [
        {
          "name": "stdout",
          "output_type": "stream",
          "text": [
            " * sqlite:///store.db\n",
            "Done.\n"
          ]
        },
        {
          "data": {
            "text/html": [
              "<table>\n",
              "    <thead>\n",
              "        <tr>\n",
              "            <th>type</th>\n",
              "            <th>name</th>\n",
              "            <th>tbl_name</th>\n",
              "            <th>rootpage</th>\n",
              "            <th>sql</th>\n",
              "        </tr>\n",
              "    </thead>\n",
              "    <tbody>\n",
              "        <tr>\n",
              "            <td>table</td>\n",
              "            <td>albums</td>\n",
              "            <td>albums</td>\n",
              "            <td>2</td>\n",
              "            <td>CREATE TABLE &quot;albums&quot;\r<br>(\r<br>    [AlbumId] INTEGER PRIMARY KEY AUTOINCREMENT NOT NULL,\r<br>    [Title] NVARCHAR(160)  NOT NULL,\r<br>    [ArtistId] INTEGER  NOT NULL,\r<br>    FOREIGN KEY ([ArtistId]) REFERENCES &quot;artists&quot; ([ArtistId]) \r<br>\t\tON DELETE NO ACTION ON UPDATE NO ACTION\r<br>)</td>\n",
              "        </tr>\n",
              "        <tr>\n",
              "            <td>table</td>\n",
              "            <td>sqlite_sequence</td>\n",
              "            <td>sqlite_sequence</td>\n",
              "            <td>3</td>\n",
              "            <td>CREATE TABLE sqlite_sequence(name,seq)</td>\n",
              "        </tr>\n",
              "        <tr>\n",
              "            <td>table</td>\n",
              "            <td>artists</td>\n",
              "            <td>artists</td>\n",
              "            <td>4</td>\n",
              "            <td>CREATE TABLE &quot;artists&quot;\r<br>(\r<br>    [ArtistId] INTEGER PRIMARY KEY AUTOINCREMENT NOT NULL,\r<br>    [Name] NVARCHAR(120)\r<br>)</td>\n",
              "        </tr>\n",
              "        <tr>\n",
              "            <td>table</td>\n",
              "            <td>genres</td>\n",
              "            <td>genres</td>\n",
              "            <td>5</td>\n",
              "            <td>CREATE TABLE &quot;genres&quot;\r<br>(\r<br>    [GenreId] INTEGER PRIMARY KEY AUTOINCREMENT NOT NULL,\r<br>    [Name] NVARCHAR(120)\r<br>)</td>\n",
              "        </tr>\n",
              "        <tr>\n",
              "            <td>table</td>\n",
              "            <td>invoice_items</td>\n",
              "            <td>invoice_items</td>\n",
              "            <td>6</td>\n",
              "            <td>CREATE TABLE &quot;invoice_items&quot;\r<br>(\r<br>    [InvoiceLineId] INTEGER PRIMARY KEY AUTOINCREMENT NOT NULL,\r<br>    [InvoiceId] INTEGER  NOT NULL,\r<br>    [TrackId] INTEGER  NOT NULL,\r<br>    [Quantity] INTEGER  NOT NULL,\r<br>    FOREIGN KEY ([InvoiceId]) REFERENCES &quot;invoices&quot; ([InvoiceId]) \r<br>\t\tON DELETE NO ACTION ON UPDATE NO ACTION,\r<br>    FOREIGN KEY ([TrackId]) REFERENCES &quot;tracks&quot; ([TrackId]) \r<br>\t\tON DELETE NO ACTION ON UPDATE NO ACTION\r<br>)</td>\n",
              "        </tr>\n",
              "        <tr>\n",
              "            <td>table</td>\n",
              "            <td>media_types</td>\n",
              "            <td>media_types</td>\n",
              "            <td>9</td>\n",
              "            <td>CREATE TABLE &quot;media_types&quot;\r<br>(\r<br>    [MediaTypeId] INTEGER PRIMARY KEY AUTOINCREMENT NOT NULL,\r<br>    [Name] NVARCHAR(120)\r<br>)</td>\n",
              "        </tr>\n",
              "        <tr>\n",
              "            <td>table</td>\n",
              "            <td>playlists</td>\n",
              "            <td>playlists</td>\n",
              "            <td>10</td>\n",
              "            <td>CREATE TABLE &quot;playlists&quot;\r<br>(\r<br>    [PlaylistId] INTEGER PRIMARY KEY AUTOINCREMENT NOT NULL,\r<br>    [Name] NVARCHAR(120)\r<br>)</td>\n",
              "        </tr>\n",
              "        <tr>\n",
              "            <td>table</td>\n",
              "            <td>playlist_track</td>\n",
              "            <td>playlist_track</td>\n",
              "            <td>11</td>\n",
              "            <td>CREATE TABLE &quot;playlist_track&quot;\r<br>(\r<br>    [PlaylistId] INTEGER  NOT NULL,\r<br>    [TrackId] INTEGER  NOT NULL,\r<br>    CONSTRAINT [PK_PlaylistTrack] PRIMARY KEY  ([PlaylistId], [TrackId]),\r<br>    FOREIGN KEY ([PlaylistId]) REFERENCES &quot;playlists&quot; ([PlaylistId]) \r<br>\t\tON DELETE NO ACTION ON UPDATE NO ACTION,\r<br>    FOREIGN KEY ([TrackId]) REFERENCES &quot;tracks&quot; ([TrackId]) \r<br>\t\tON DELETE NO ACTION ON UPDATE NO ACTION\r<br>)</td>\n",
              "        </tr>\n",
              "        <tr>\n",
              "            <td>index</td>\n",
              "            <td>sqlite_autoindex_playlist_track_1</td>\n",
              "            <td>playlist_track</td>\n",
              "            <td>12</td>\n",
              "            <td>None</td>\n",
              "        </tr>\n",
              "        <tr>\n",
              "            <td>table</td>\n",
              "            <td>tracks</td>\n",
              "            <td>tracks</td>\n",
              "            <td>14</td>\n",
              "            <td>CREATE TABLE &quot;tracks&quot;\r<br>(\r<br>    [TrackId] INTEGER PRIMARY KEY AUTOINCREMENT NOT NULL,\r<br>    [Name] NVARCHAR(200)  NOT NULL,\r<br>    [AlbumId] INTEGER,\r<br>    [MediaTypeId] INTEGER  NOT NULL,\r<br>    [GenreId] INTEGER,\r<br>    [Milliseconds] INTEGER  NOT NULL,\r<br>    [Bytes] INTEGER,\r<br>    [UnitPrice] NUMERIC(10,2)  NOT NULL,\r<br>    FOREIGN KEY ([AlbumId]) REFERENCES &quot;albums&quot; ([AlbumId]) \r<br>\t\tON DELETE NO ACTION ON UPDATE NO ACTION,\r<br>    FOREIGN KEY ([GenreId]) REFERENCES &quot;genres&quot; ([GenreId]) \r<br>\t\tON DELETE NO ACTION ON UPDATE NO ACTION,\r<br>    FOREIGN KEY ([MediaTypeId]) REFERENCES &quot;media_types&quot; ([MediaTypeId]) \r<br>\t\tON DELETE NO ACTION ON UPDATE NO ACTION\r<br>)</td>\n",
              "        </tr>\n",
              "        <tr>\n",
              "            <td>table</td>\n",
              "            <td>invoices</td>\n",
              "            <td>invoices</td>\n",
              "            <td>16</td>\n",
              "            <td>CREATE TABLE invoices (InvoiceId INTEGER PRIMARY KEY AUTOINCREMENT NOT NULL, CustomerId INTEGER NOT NULL, InvoiceDate DATETIME NOT NULL, BillingAddress NVARCHAR (70), BillingCity NVARCHAR (40), BillingState NVARCHAR (40), BillingCountry NVARCHAR (40), BillingPostalCode NVARCHAR (10), Total NUMERIC (10, 2), FOREIGN KEY (CustomerId) REFERENCES customers (CustomerId) ON DELETE NO ACTION ON UPDATE NO ACTION)</td>\n",
              "        </tr>\n",
              "        <tr>\n",
              "            <td>table</td>\n",
              "            <td>customers</td>\n",
              "            <td>customers</td>\n",
              "            <td>18</td>\n",
              "            <td>CREATE TABLE customers (CustomerId INTEGER PRIMARY KEY AUTOINCREMENT NOT NULL, FirstName NVARCHAR (40) NOT NULL, LastName NVARCHAR (20) NOT NULL, Company NVARCHAR (80), Address NVARCHAR (70), City NVARCHAR (40), State NVARCHAR (40), Country NVARCHAR (40), PostalCode NVARCHAR (10), Phone NVARCHAR (24) NOT NULL, Email NVARCHAR (60) NOT NULL, SupportRepId INTEGER, FOREIGN KEY (SupportRepId) REFERENCES employees (EmployeeId) ON DELETE NO ACTION ON UPDATE NO ACTION)</td>\n",
              "        </tr>\n",
              "        <tr>\n",
              "            <td>table</td>\n",
              "            <td>employees</td>\n",
              "            <td>employees</td>\n",
              "            <td>19</td>\n",
              "            <td>CREATE TABLE employees (EmployeeId INTEGER PRIMARY KEY AUTOINCREMENT NOT NULL, LastName NVARCHAR (20) NOT NULL, FirstName NVARCHAR (20) NOT NULL, Title NVARCHAR (30), BirthDate DATETIME, HireDate DATETIME, Address NVARCHAR (70), City NVARCHAR (40), State NVARCHAR (40), Country NVARCHAR (40), PostalCode NVARCHAR (10), Phone NVARCHAR (24), ReportsTo INTEGER, Email NVARCHAR (60), FOREIGN KEY (ReportsTo) REFERENCES employees (EmployeeId) ON DELETE NO ACTION ON UPDATE NO ACTION)</td>\n",
              "        </tr>\n",
              "    </tbody>\n",
              "</table>"
            ],
            "text/plain": [
              "[('table', 'albums', 'albums', 2, 'CREATE TABLE \"albums\"\\r\\n(\\r\\n    [AlbumId] INTEGER PRIMARY KEY AUTOINCREMENT NOT NULL,\\r\\n    [Title] NVARCHAR(160)  NOT NULL,\\r\\n    [ArtistId] INTEGER  NOT NULL,\\r\\n    FOREIGN KEY ([ArtistId]) REFERENCES \"artists\" ([ArtistId]) \\r\\n\\t\\tON DELETE NO ACTION ON UPDATE NO ACTION\\r\\n)'),\n",
              " ('table', 'sqlite_sequence', 'sqlite_sequence', 3, 'CREATE TABLE sqlite_sequence(name,seq)'),\n",
              " ('table', 'artists', 'artists', 4, 'CREATE TABLE \"artists\"\\r\\n(\\r\\n    [ArtistId] INTEGER PRIMARY KEY AUTOINCREMENT NOT NULL,\\r\\n    [Name] NVARCHAR(120)\\r\\n)'),\n",
              " ('table', 'genres', 'genres', 5, 'CREATE TABLE \"genres\"\\r\\n(\\r\\n    [GenreId] INTEGER PRIMARY KEY AUTOINCREMENT NOT NULL,\\r\\n    [Name] NVARCHAR(120)\\r\\n)'),\n",
              " ('table', 'invoice_items', 'invoice_items', 6, 'CREATE TABLE \"invoice_items\"\\r\\n(\\r\\n    [InvoiceLineId] INTEGER PRIMARY KEY AUTOINCREMENT NOT NULL,\\r\\n    [InvoiceId] INTEGER  NOT NULL,\\r\\n    [Tr ... (147 characters truncated) ... TE NO ACTION ON UPDATE NO ACTION,\\r\\n    FOREIGN KEY ([TrackId]) REFERENCES \"tracks\" ([TrackId]) \\r\\n\\t\\tON DELETE NO ACTION ON UPDATE NO ACTION\\r\\n)'),\n",
              " ('table', 'media_types', 'media_types', 9, 'CREATE TABLE \"media_types\"\\r\\n(\\r\\n    [MediaTypeId] INTEGER PRIMARY KEY AUTOINCREMENT NOT NULL,\\r\\n    [Name] NVARCHAR(120)\\r\\n)'),\n",
              " ('table', 'playlists', 'playlists', 10, 'CREATE TABLE \"playlists\"\\r\\n(\\r\\n    [PlaylistId] INTEGER PRIMARY KEY AUTOINCREMENT NOT NULL,\\r\\n    [Name] NVARCHAR(120)\\r\\n)'),\n",
              " ('table', 'playlist_track', 'playlist_track', 11, 'CREATE TABLE \"playlist_track\"\\r\\n(\\r\\n    [PlaylistId] INTEGER  NOT NULL,\\r\\n    [TrackId] INTEGER  NOT NULL,\\r\\n    CONSTRAINT [PK_PlaylistTrack] PR ... (125 characters truncated) ... TE NO ACTION ON UPDATE NO ACTION,\\r\\n    FOREIGN KEY ([TrackId]) REFERENCES \"tracks\" ([TrackId]) \\r\\n\\t\\tON DELETE NO ACTION ON UPDATE NO ACTION\\r\\n)'),\n",
              " ('index', 'sqlite_autoindex_playlist_track_1', 'playlist_track', 12, None),\n",
              " ('table', 'tracks', 'tracks', 14, 'CREATE TABLE \"tracks\"\\r\\n(\\r\\n    [TrackId] INTEGER PRIMARY KEY AUTOINCREMENT NOT NULL,\\r\\n    [Name] NVARCHAR(200)  NOT NULL,\\r\\n    [AlbumId] INTEG ... (382 characters truncated) ... ON UPDATE NO ACTION,\\r\\n    FOREIGN KEY ([MediaTypeId]) REFERENCES \"media_types\" ([MediaTypeId]) \\r\\n\\t\\tON DELETE NO ACTION ON UPDATE NO ACTION\\r\\n)'),\n",
              " ('table', 'invoices', 'invoices', 16, 'CREATE TABLE invoices (InvoiceId INTEGER PRIMARY KEY AUTOINCREMENT NOT NULL, CustomerId INTEGER NOT NULL, InvoiceDate DATETIME NOT NULL, BillingAddre ... (109 characters truncated) ... gPostalCode NVARCHAR (10), Total NUMERIC (10, 2), FOREIGN KEY (CustomerId) REFERENCES customers (CustomerId) ON DELETE NO ACTION ON UPDATE NO ACTION)'),\n",
              " ('table', 'customers', 'customers', 18, 'CREATE TABLE customers (CustomerId INTEGER PRIMARY KEY AUTOINCREMENT NOT NULL, FirstName NVARCHAR (40) NOT NULL, LastName NVARCHAR (20) NOT NULL, Com ... (167 characters truncated) ... l NVARCHAR (60) NOT NULL, SupportRepId INTEGER, FOREIGN KEY (SupportRepId) REFERENCES employees (EmployeeId) ON DELETE NO ACTION ON UPDATE NO ACTION)'),\n",
              " ('table', 'employees', 'employees', 19, 'CREATE TABLE employees (EmployeeId INTEGER PRIMARY KEY AUTOINCREMENT NOT NULL, LastName NVARCHAR (20) NOT NULL, FirstName NVARCHAR (20) NOT NULL, Tit ... (180 characters truncated) ... CHAR (24), ReportsTo INTEGER, Email NVARCHAR (60), FOREIGN KEY (ReportsTo) REFERENCES employees (EmployeeId) ON DELETE NO ACTION ON UPDATE NO ACTION)')]"
            ]
          },
          "execution_count": 20,
          "metadata": {},
          "output_type": "execute_result"
        }
      ],
      "source": [
        "%%sql\n",
        "SELECT * FROM sqlite_master;"
      ]
    },
    {
      "cell_type": "markdown",
      "metadata": {
        "id": "eEAq-gUB7LlF"
      },
      "source": [
        "## Задание 1\n",
        "Вывести 5 самых больших по размеру (в байтах) треков жанра Blues и формата MPEG. Только название и размер.\n"
      ]
    },
    {
      "cell_type": "code",
      "execution_count": 21,
      "metadata": {
        "id": "O7MqEcWciQHD"
      },
      "outputs": [
        {
          "name": "stdout",
          "output_type": "stream",
          "text": [
            " * sqlite:///store.db\n",
            "Done.\n"
          ]
        },
        {
          "data": {
            "text/html": [
              "<table>\n",
              "    <thead>\n",
              "        <tr>\n",
              "            <th>Name</th>\n",
              "            <th>Bytes</th>\n",
              "        </tr>\n",
              "    </thead>\n",
              "    <tbody>\n",
              "        <tr>\n",
              "            <td>Old Love</td>\n",
              "            <td>15780747</td>\n",
              "        </tr>\n",
              "        <tr>\n",
              "            <td>Running On Faith</td>\n",
              "            <td>12536275</td>\n",
              "        </tr>\n",
              "        <tr>\n",
              "            <td>Lonely Stranger</td>\n",
              "            <td>10894406</td>\n",
              "        </tr>\n",
              "        <tr>\n",
              "            <td>Layla</td>\n",
              "            <td>9490542</td>\n",
              "        </tr>\n",
              "        <tr>\n",
              "            <td>Tears In Heaven</td>\n",
              "            <td>9032835</td>\n",
              "        </tr>\n",
              "    </tbody>\n",
              "</table>"
            ],
            "text/plain": [
              "[('Old Love', 15780747),\n",
              " ('Running On Faith', 12536275),\n",
              " ('Lonely Stranger', 10894406),\n",
              " ('Layla', 9490542),\n",
              " ('Tears In Heaven', 9032835)]"
            ]
          },
          "execution_count": 21,
          "metadata": {},
          "output_type": "execute_result"
        }
      ],
      "source": [
        "%%sql\n",
        "\n",
        "SELECT \n",
        "  name, \n",
        "  bytes \n",
        "FROM \n",
        "  tracks t \n",
        "WHERE \n",
        "  t.genreid = (\n",
        "    SELECT \n",
        "      genreid \n",
        "    FROM \n",
        "      genres g \n",
        "    WHERE \n",
        "      g.name = \"Blues\"\n",
        "  ) \n",
        "  AND t.mediatypeid = (\n",
        "    SELECT \n",
        "      mediatypeid \n",
        "    FROM \n",
        "      media_types m \n",
        "    WHERE \n",
        "      m.name = \"MPEG audio file\"\n",
        "  ) \n",
        "ORDER BY \n",
        "  t.bytes DESC \n",
        "LIMIT \n",
        "  5;"
      ]
    },
    {
      "cell_type": "markdown",
      "metadata": {
        "id": "IwJ_E91n7LlD"
      },
      "source": [
        "## Задание 2\n",
        "Вывести названия всех треков и их исполнителей для всех треков жанра Rock, приобретенных сотрудниками Oracle.\n"
      ]
    },
    {
      "cell_type": "code",
      "execution_count": 22,
      "metadata": {
        "id": "x3il7qiGiS1q"
      },
      "outputs": [
        {
          "name": "stdout",
          "output_type": "stream",
          "text": [
            " * sqlite:///store.db\n",
            "Done.\n"
          ]
        },
        {
          "data": {
            "text/html": [
              "<table>\n",
              "    <thead>\n",
              "        <tr>\n",
              "            <th>Name</th>\n",
              "            <th>artist</th>\n",
              "        </tr>\n",
              "    </thead>\n",
              "    <tbody>\n",
              "        <tr>\n",
              "            <td>A Kind Of Magic</td>\n",
              "            <td>Queen</td>\n",
              "        </tr>\n",
              "        <tr>\n",
              "            <td>I Want To Break Free</td>\n",
              "            <td>Queen</td>\n",
              "        </tr>\n",
              "        <tr>\n",
              "            <td>Who Wants To Live Forever</td>\n",
              "            <td>Queen</td>\n",
              "        </tr>\n",
              "        <tr>\n",
              "            <td>The Invisible Man</td>\n",
              "            <td>Queen</td>\n",
              "        </tr>\n",
              "        <tr>\n",
              "            <td>Bad Moon Rising</td>\n",
              "            <td>Creedence Clearwater Revival</td>\n",
              "        </tr>\n",
              "        <tr>\n",
              "            <td>Down On The Corner</td>\n",
              "            <td>Creedence Clearwater Revival</td>\n",
              "        </tr>\n",
              "        <tr>\n",
              "            <td>Up Around The Bend</td>\n",
              "            <td>Creedence Clearwater Revival</td>\n",
              "        </tr>\n",
              "        <tr>\n",
              "            <td>That&#x27;s The Way</td>\n",
              "            <td>Led Zeppelin</td>\n",
              "        </tr>\n",
              "        <tr>\n",
              "            <td>Ten Years Gone</td>\n",
              "            <td>Led Zeppelin</td>\n",
              "        </tr>\n",
              "        <tr>\n",
              "            <td>Achilles Last Stand</td>\n",
              "            <td>Led Zeppelin</td>\n",
              "        </tr>\n",
              "        <tr>\n",
              "            <td>Tea For One</td>\n",
              "            <td>Led Zeppelin</td>\n",
              "        </tr>\n",
              "        <tr>\n",
              "            <td>No Quarter</td>\n",
              "            <td>Led Zeppelin</td>\n",
              "        </tr>\n",
              "        <tr>\n",
              "            <td>Nothing To Say</td>\n",
              "            <td>Soundgarden</td>\n",
              "        </tr>\n",
              "        <tr>\n",
              "            <td>The Three Sunrises</td>\n",
              "            <td>U2</td>\n",
              "        </tr>\n",
              "        <tr>\n",
              "            <td>Sweetest Thing</td>\n",
              "            <td>U2</td>\n",
              "        </tr>\n",
              "        <tr>\n",
              "            <td>Sunday Bloody Sunday</td>\n",
              "            <td>U2</td>\n",
              "        </tr>\n",
              "        <tr>\n",
              "            <td>New Year&#x27;s Day</td>\n",
              "            <td>U2</td>\n",
              "        </tr>\n",
              "    </tbody>\n",
              "</table>"
            ],
            "text/plain": [
              "[('A Kind Of Magic', 'Queen'),\n",
              " ('I Want To Break Free', 'Queen'),\n",
              " ('Who Wants To Live Forever', 'Queen'),\n",
              " ('The Invisible Man', 'Queen'),\n",
              " ('Bad Moon Rising', 'Creedence Clearwater Revival'),\n",
              " ('Down On The Corner', 'Creedence Clearwater Revival'),\n",
              " ('Up Around The Bend', 'Creedence Clearwater Revival'),\n",
              " (\"That's The Way\", 'Led Zeppelin'),\n",
              " ('Ten Years Gone', 'Led Zeppelin'),\n",
              " ('Achilles Last Stand', 'Led Zeppelin'),\n",
              " ('Tea For One', 'Led Zeppelin'),\n",
              " ('No Quarter', 'Led Zeppelin'),\n",
              " ('Nothing To Say', 'Soundgarden'),\n",
              " ('The Three Sunrises', 'U2'),\n",
              " ('Sweetest Thing', 'U2'),\n",
              " ('Sunday Bloody Sunday', 'U2'),\n",
              " (\"New Year's Day\", 'U2')]"
            ]
          },
          "execution_count": 22,
          "metadata": {},
          "output_type": "execute_result"
        }
      ],
      "source": [
        "%%sql\n",
        "\n",
        "SELECT \n",
        "  name, \n",
        "  (\n",
        "    SELECT \n",
        "      name \n",
        "    FROM \n",
        "      artists a \n",
        "    WHERE \n",
        "      a.artistid = (\n",
        "        SELECT \n",
        "          artistid \n",
        "        FROM \n",
        "          albums al \n",
        "        WHERE \n",
        "          al.albumid = t.albumid\n",
        "      )\n",
        "  ) artist\n",
        "FROM \n",
        "  tracks t \n",
        "WHERE \n",
        "  t.genreid = (\n",
        "    SELECT \n",
        "      genreid \n",
        "    FROM \n",
        "      genres g \n",
        "    WHERE \n",
        "      g.name = \"Rock\"\n",
        "  ) \n",
        "  AND t.trackid IN (\n",
        "    SELECT \n",
        "      trackid \n",
        "    FROM \n",
        "      invoice_items ii \n",
        "    WHERE \n",
        "      ii.invoiceid IN (\n",
        "        SELECT \n",
        "          invoiceid \n",
        "        FROM \n",
        "          invoices i \n",
        "        WHERE \n",
        "          i.customerid IN (\n",
        "            SELECT \n",
        "              customerid \n",
        "            FROM \n",
        "              customers c \n",
        "            WHERE \n",
        "              c.company = \"Oracle\"\n",
        "          )\n",
        "      )\n",
        "  );"
      ]
    },
    {
      "cell_type": "markdown",
      "metadata": {
        "id": "0mmLXQXr7LlG"
      },
      "source": [
        "## Задание 3\n",
        "Для каждой компании вывести общее количество купленных джазовых композиций (если 0, можно не выводить).\n"
      ]
    },
    {
      "cell_type": "code",
      "execution_count": 23,
      "metadata": {
        "id": "9kcvxk8OCrby"
      },
      "outputs": [
        {
          "name": "stdout",
          "output_type": "stream",
          "text": [
            " * sqlite:///store.db\n",
            "Done.\n"
          ]
        },
        {
          "data": {
            "text/html": [
              "<table>\n",
              "    <thead>\n",
              "        <tr>\n",
              "            <th>Company</th>\n",
              "            <th>jazz_tracks</th>\n",
              "        </tr>\n",
              "    </thead>\n",
              "    <tbody>\n",
              "        <tr>\n",
              "            <td>Apple Inc.</td>\n",
              "            <td>2</td>\n",
              "        </tr>\n",
              "        <tr>\n",
              "            <td>BMW</td>\n",
              "            <td>1</td>\n",
              "        </tr>\n",
              "        <tr>\n",
              "            <td>Google Inc.</td>\n",
              "            <td>12</td>\n",
              "        </tr>\n",
              "        <tr>\n",
              "            <td>JetBrains s.r.o.</td>\n",
              "            <td>3</td>\n",
              "        </tr>\n",
              "        <tr>\n",
              "            <td>Microsoft Corporation</td>\n",
              "            <td>15</td>\n",
              "        </tr>\n",
              "        <tr>\n",
              "            <td>Oracle</td>\n",
              "            <td>3</td>\n",
              "        </tr>\n",
              "        <tr>\n",
              "            <td>SAP</td>\n",
              "            <td>1</td>\n",
              "        </tr>\n",
              "        <tr>\n",
              "            <td>Telus</td>\n",
              "            <td>2</td>\n",
              "        </tr>\n",
              "    </tbody>\n",
              "</table>"
            ],
            "text/plain": [
              "[('Apple Inc.', 2),\n",
              " ('BMW', 1),\n",
              " ('Google Inc.', 12),\n",
              " ('JetBrains s.r.o.', 3),\n",
              " ('Microsoft Corporation', 15),\n",
              " ('Oracle', 3),\n",
              " ('SAP', 1),\n",
              " ('Telus', 2)]"
            ]
          },
          "execution_count": 23,
          "metadata": {},
          "output_type": "execute_result"
        }
      ],
      "source": [
        "%%sql\n",
        "\n",
        "SELECT \n",
        "  c.company, \n",
        "  COUNT(t.trackid) jazz_tracks \n",
        "FROM \n",
        "  tracks t \n",
        "  LEFT JOIN genres g ON t.genreid = g.genreid \n",
        "  LEFT JOIN invoice_items ii ON t.trackid = ii.trackid \n",
        "  LEFT JOIN invoices i ON ii.invoiceid = i.invoiceid \n",
        "  LEFT JOIN customers c ON i.customerid = c.customerid \n",
        "WHERE \n",
        "  g.name = \"Jazz\" \n",
        "  AND c.company IS NOT NULL \n",
        "GROUP BY \n",
        "  c.company \n",
        "HAVING \n",
        "  jazz_tracks > 0;"
      ]
    },
    {
      "cell_type": "markdown",
      "metadata": {
        "id": "M2JDkqnT7LlG"
      },
      "source": [
        "## Задание 4\n",
        "Вывести топ 3 плейлиста по продолжительности (продолжительность плейлиста = сумма длин треков в нём). Только название и продолжительность (в часах).\n"
      ]
    },
    {
      "cell_type": "code",
      "execution_count": 24,
      "metadata": {
        "id": "isEzp0r0Crzy"
      },
      "outputs": [
        {
          "name": "stdout",
          "output_type": "stream",
          "text": [
            " * sqlite:///store.db\n",
            "Done.\n"
          ]
        },
        {
          "data": {
            "text/html": [
              "<table>\n",
              "    <thead>\n",
              "        <tr>\n",
              "            <th>Name</th>\n",
              "            <th>duration</th>\n",
              "        </tr>\n",
              "    </thead>\n",
              "    <tbody>\n",
              "        <tr>\n",
              "            <td>From That TV Show</td>\n",
              "            <td>138</td>\n",
              "        </tr>\n",
              "        <tr>\n",
              "            <td>Hidden Gems</td>\n",
              "            <td>138</td>\n",
              "        </tr>\n",
              "        <tr>\n",
              "            <td>90’s Music</td>\n",
              "            <td>10</td>\n",
              "        </tr>\n",
              "    </tbody>\n",
              "</table>"
            ],
            "text/plain": [
              "[('From That TV Show', 138), ('Hidden Gems', 138), ('90’s Music', 10)]"
            ]
          },
          "execution_count": 24,
          "metadata": {},
          "output_type": "execute_result"
        }
      ],
      "source": [
        "%%sql\n",
        "\n",
        "SELECT \n",
        "  name, \n",
        "  (\n",
        "    SELECT \n",
        "      SUM(milliseconds) \n",
        "    FROM \n",
        "      tracks t \n",
        "    WHERE \n",
        "      t.trackid IN (\n",
        "        SELECT \n",
        "          trackid \n",
        "        FROM \n",
        "          playlist_track pt \n",
        "        WHERE \n",
        "          pt.playlistid = p.playlistid\n",
        "      )\n",
        "  ) / 1000 / 3600 duration \n",
        "FROM \n",
        "  playlists p \n",
        "WHERE \n",
        "  duration > 0\n",
        "ORDER BY \n",
        "  duration DESC \n",
        "LIMIT \n",
        "  3;\n"
      ]
    },
    {
      "cell_type": "markdown",
      "metadata": {
        "id": "Ni7Mi7ur7LlH"
      },
      "source": [
        "## Задание 5\n",
        "Для каждого набора (жанр, тип медиа) вывести количество треков в них, причем вывести только те наборы, для которых **все** треки стоят больше 1$ и для которых в наборе есть хотя бы один трек."
      ]
    },
    {
      "cell_type": "code",
      "execution_count": 53,
      "metadata": {
        "id": "Y-psouvxm9vF"
      },
      "outputs": [
        {
          "name": "stdout",
          "output_type": "stream",
          "text": [
            " * sqlite:///store.db\n",
            "Done.\n"
          ]
        },
        {
          "data": {
            "text/html": [
              "<table>\n",
              "    <thead>\n",
              "        <tr>\n",
              "            <th>genre</th>\n",
              "            <th>filetype</th>\n",
              "            <th>tracks</th>\n",
              "        </tr>\n",
              "    </thead>\n",
              "    <tbody>\n",
              "        <tr>\n",
              "            <td>Blues</td>\n",
              "            <td>AAC audio file</td>\n",
              "            <td>9</td>\n",
              "        </tr>\n",
              "        <tr>\n",
              "            <td>Comedy</td>\n",
              "            <td>MPEG audio file</td>\n",
              "            <td>17</td>\n",
              "        </tr>\n",
              "        <tr>\n",
              "            <td>Sci Fi &amp; Fantasy</td>\n",
              "            <td>MPEG audio file</td>\n",
              "            <td>26</td>\n",
              "        </tr>\n",
              "        <tr>\n",
              "            <td>Science Fiction</td>\n",
              "            <td>MPEG audio file</td>\n",
              "            <td>13</td>\n",
              "        </tr>\n",
              "        <tr>\n",
              "            <td>TV Shows</td>\n",
              "            <td>MPEG audio file</td>\n",
              "            <td>93</td>\n",
              "        </tr>\n",
              "    </tbody>\n",
              "</table>"
            ],
            "text/plain": [
              "[('Blues', 'AAC audio file', 9),\n",
              " ('Comedy', 'MPEG audio file', 17),\n",
              " ('Sci Fi & Fantasy', 'MPEG audio file', 26),\n",
              " ('Science Fiction', 'MPEG audio file', 13),\n",
              " ('TV Shows', 'MPEG audio file', 93)]"
            ]
          },
          "execution_count": 53,
          "metadata": {},
          "output_type": "execute_result"
        }
      ],
      "source": [
        "%%sql\n",
        "\n",
        "WITH joined_tracks AS (\n",
        "  SELECT \n",
        "    trackid, \n",
        "    unitprice price, \n",
        "    g.name genre, \n",
        "    mt.name filetype \n",
        "  FROM \n",
        "    tracks t \n",
        "    LEFT JOIN genres g ON t.genreid = g.genreid \n",
        "    LEFT JOIN media_types mt ON t.mediatypeid = mt.mediatypeid\n",
        ") \n",
        "SELECT \n",
        "  genre, \n",
        "  filetype, \n",
        "  COUNT(trackid) tracks \n",
        "FROM \n",
        "  joined_tracks \n",
        "GROUP BY \n",
        "  genre, filetype\n",
        "HAVING\n",
        "  MIN(price) > 1 AND tracks > 0;"
      ]
    }
  ],
  "metadata": {
    "colab": {
      "provenance": []
    },
    "kernelspec": {
      "display_name": "Python 3",
      "language": "python",
      "name": "python3"
    },
    "language_info": {
      "codemirror_mode": {
        "name": "ipython",
        "version": 3
      },
      "file_extension": ".py",
      "mimetype": "text/x-python",
      "name": "python",
      "nbconvert_exporter": "python",
      "pygments_lexer": "ipython3",
      "version": "3.11.9"
    }
  },
  "nbformat": 4,
  "nbformat_minor": 0
}
